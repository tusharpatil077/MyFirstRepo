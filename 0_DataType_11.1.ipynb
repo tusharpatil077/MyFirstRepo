{
 "cells": [
  {
   "cell_type": "code",
   "execution_count": null,
   "id": "39a007a1-002a-48e7-91f1-5977257dea38",
   "metadata": {},
   "outputs": [],
   "source": [
    "Features:\n",
    "1.Easy to learn and Begginer Lang\n",
    "2.High Level Lang \n",
    "3.Interpreter Based Lang\n",
    "4.Dynamically Typed Lang\n",
    "5.Platform independent lang\n",
    "6.portable lang\n",
    "7.open source and freeware\n",
    "8.rich in library support\n",
    "9.supprt both POP[function] -Basic and OOP[class and object] - Adv Python\n",
    "\n",
    "limitation of Python:\n",
    "1.not supoort mobile application\n",
    "2.wont support backward compatiliby"
   ]
  },
  {
   "cell_type": "code",
   "execution_count": null,
   "id": "87c50bfe-260e-461e-a601-072d529c1d0a",
   "metadata": {},
   "outputs": [],
   "source": [
    "Data Type:\n",
    "\n",
    "type of Data :\n",
    "real Data \n",
    "\n",
    "1.int \n",
    "2.float\n",
    "3.str\n",
    "4.bool --  True | False\n",
    "5.None -- empty\n",
    "6.complex number : real + imgconstant -- \n",
    "\n",
    "Note : char data type is not present in Python"
   ]
  },
  {
   "cell_type": "code",
   "execution_count": null,
   "id": "022b09d5-fb11-477c-bdc9-e5387d5b24c0",
   "metadata": {},
   "outputs": [],
   "source": [
    "Number :\n",
    "\n",
    "complete number : number without decimal-- int\n",
    "\n",
    "incomplete number : number with decimal point -- float\n",
    "\n",
    "\n",
    "characters;\n",
    "single char : \n",
    "str\n",
    "multiple char :\n",
    "str\n"
   ]
  },
  {
   "cell_type": "code",
   "execution_count": 3,
   "id": "d71e512a-19aa-4118-ad4b-37e599a122ed",
   "metadata": {},
   "outputs": [],
   "source": [
    "a = 10 + 11j"
   ]
  },
  {
   "cell_type": "code",
   "execution_count": 5,
   "id": "8b94408a-14f2-4d2a-94a2-52b504ec5fd2",
   "metadata": {},
   "outputs": [
    {
     "data": {
      "text/plain": [
       "complex"
      ]
     },
     "execution_count": 5,
     "metadata": {},
     "output_type": "execute_result"
    }
   ],
   "source": [
    "type(a)"
   ]
  },
  {
   "cell_type": "code",
   "execution_count": 6,
   "id": "7bcfca90-b2e6-4172-b28f-49beaf3f940e",
   "metadata": {},
   "outputs": [],
   "source": [
    "temp = 50"
   ]
  },
  {
   "cell_type": "code",
   "execution_count": 7,
   "id": "9d9f26cd-26fe-400a-b546-f26719822ec0",
   "metadata": {},
   "outputs": [
    {
     "data": {
      "text/plain": [
       "int"
      ]
     },
     "execution_count": 7,
     "metadata": {},
     "output_type": "execute_result"
    }
   ],
   "source": [
    "type(temp)"
   ]
  },
  {
   "cell_type": "code",
   "execution_count": 8,
   "id": "f69caf13-5cf7-4fba-922b-924d416e9886",
   "metadata": {},
   "outputs": [],
   "source": [
    "a = 45.7"
   ]
  },
  {
   "cell_type": "code",
   "execution_count": 9,
   "id": "e6dbf548-a11c-46b4-91bc-1e507319e0cd",
   "metadata": {},
   "outputs": [
    {
     "data": {
      "text/plain": [
       "float"
      ]
     },
     "execution_count": 9,
     "metadata": {},
     "output_type": "execute_result"
    }
   ],
   "source": [
    "type(a)"
   ]
  },
  {
   "cell_type": "code",
   "execution_count": 10,
   "id": "0783018c-b6bb-4cc1-b5ca-49f0df99070d",
   "metadata": {},
   "outputs": [],
   "source": [
    "t = 'keshav'"
   ]
  },
  {
   "cell_type": "code",
   "execution_count": 11,
   "id": "c5415189-d881-4be5-843a-1f6446a0e35a",
   "metadata": {},
   "outputs": [
    {
     "data": {
      "text/plain": [
       "str"
      ]
     },
     "execution_count": 11,
     "metadata": {},
     "output_type": "execute_result"
    }
   ],
   "source": [
    "type(t)"
   ]
  },
  {
   "cell_type": "code",
   "execution_count": 12,
   "id": "3009b91a-d4d4-4c78-9f0b-a968c8ada1af",
   "metadata": {},
   "outputs": [],
   "source": [
    "t1 = 'a'"
   ]
  },
  {
   "cell_type": "code",
   "execution_count": 13,
   "id": "b648a57e-fe33-4f79-8767-12f141aeebf7",
   "metadata": {},
   "outputs": [
    {
     "data": {
      "text/plain": [
       "str"
      ]
     },
     "execution_count": 13,
     "metadata": {},
     "output_type": "execute_result"
    }
   ],
   "source": [
    "type(t1)"
   ]
  },
  {
   "cell_type": "code",
   "execution_count": null,
   "id": "96ca1b07-1d53-4836-b788-6f5fa68409bb",
   "metadata": {},
   "outputs": [],
   "source": [
    "Data Structures:\n",
    "\n",
    "Data --->arranged raw data in perticular structure\n",
    "\n",
    "1.list\n",
    "2.tuple\n",
    "3.set\n",
    "4.dict\n",
    "5.str\n",
    "6.Frozenset"
   ]
  },
  {
   "cell_type": "code",
   "execution_count": 14,
   "id": "e8c1e6e8-a2e5-4f2f-a81f-0ffe20ad92aa",
   "metadata": {},
   "outputs": [],
   "source": [
    "1.list:\n",
    "- it is collection of elements | data types\n",
    "similar types -- Homogeneous list\n",
    "different types -- Hetrogeneous list\n",
    "- it is denoted by []\n",
    "- it is mutable | unhashable | changable type DS\n",
    "- element of list access by its index number\n",
    "indexing :\n",
    "forward /positive:\n",
    "start=0 stop = len-1\n",
    "\n",
    "reverse/negative:\n",
    "start =-1 /stop =-len\n",
    "\n",
    "- list can contain duplicate elements\n",
    "\n",
    "Operation:\n",
    "access elements:"
   ]
  },
  {
   "cell_type": "code",
   "execution_count": 16,
   "id": "1cb8f0b5-1072-45b3-ad0b-9c721c636971",
   "metadata": {},
   "outputs": [],
   "source": [
    "emp_details = [101,'keshav','A+',65456.545,True,None]"
   ]
  },
  {
   "cell_type": "code",
   "execution_count": 17,
   "id": "33b2fceb-50c6-44b3-9b2d-e4789f6e9d3b",
   "metadata": {},
   "outputs": [
    {
     "data": {
      "text/plain": [
       "[101, 'keshav', 'A+', 65456.545, True, None]"
      ]
     },
     "execution_count": 17,
     "metadata": {},
     "output_type": "execute_result"
    }
   ],
   "source": [
    "emp_details"
   ]
  },
  {
   "cell_type": "code",
   "execution_count": null,
   "id": "833b12fb-6fff-4d70-8dff-e6caa55e334f",
   "metadata": {},
   "outputs": [],
   "source": [
    "Interview Question:\n",
    "==================\n",
    "mutable type : if we are able to perform insert | delete | update \n",
    "1.list\n",
    "2.set\n",
    "3.dict\n",
    "immutable Type: if we are not able to perform insert | delete | update \n",
    "1.tuple\n",
    "2.str\n",
    "3.frozenset"
   ]
  },
  {
   "cell_type": "code",
   "execution_count": 18,
   "id": "0271f29a-8ae9-4647-822e-2057e69e6dde",
   "metadata": {},
   "outputs": [
    {
     "data": {
      "text/plain": [
       "[101, 'keshav', 'A+', 65456.545, True, None]"
      ]
     },
     "execution_count": 18,
     "metadata": {},
     "output_type": "execute_result"
    }
   ],
   "source": [
    "emp_details"
   ]
  },
  {
   "cell_type": "code",
   "execution_count": 19,
   "id": "208eb0e9-5324-4207-aa1f-6305695dacb1",
   "metadata": {},
   "outputs": [
    {
     "data": {
      "text/plain": [
       "6"
      ]
     },
     "execution_count": 19,
     "metadata": {},
     "output_type": "execute_result"
    }
   ],
   "source": [
    "len(emp_details)"
   ]
  },
  {
   "cell_type": "code",
   "execution_count": 20,
   "id": "b1c39162-289c-4e1e-99ca-9dffdbbdb63e",
   "metadata": {},
   "outputs": [
    {
     "data": {
      "text/plain": [
       "[101, 'keshav', 'A+', 65456.545, True, None]"
      ]
     },
     "execution_count": 20,
     "metadata": {},
     "output_type": "execute_result"
    }
   ],
   "source": [
    "emp_details"
   ]
  },
  {
   "cell_type": "code",
   "execution_count": 21,
   "id": "8ab7c992-f9cb-47c9-973d-c5b1b942d64d",
   "metadata": {},
   "outputs": [
    {
     "data": {
      "text/plain": [
       "65456.545"
      ]
     },
     "execution_count": 21,
     "metadata": {},
     "output_type": "execute_result"
    }
   ],
   "source": [
    "emp_details[3]"
   ]
  },
  {
   "cell_type": "code",
   "execution_count": 23,
   "id": "a0e4937f-5f0d-409a-9185-9929ff924a8f",
   "metadata": {},
   "outputs": [
    {
     "data": {
      "text/plain": [
       "'keshav'"
      ]
     },
     "execution_count": 23,
     "metadata": {},
     "output_type": "execute_result"
    }
   ],
   "source": [
    "emp_details[1]"
   ]
  },
  {
   "cell_type": "code",
   "execution_count": 24,
   "id": "0a31f9e8-d29d-41a3-84ba-40a731b1910e",
   "metadata": {},
   "outputs": [
    {
     "data": {
      "text/plain": [
       "True"
      ]
     },
     "execution_count": 24,
     "metadata": {},
     "output_type": "execute_result"
    }
   ],
   "source": [
    "emp_details[-2]"
   ]
  },
  {
   "cell_type": "code",
   "execution_count": 25,
   "id": "5ef96b4a-fb63-4b6d-914f-1eb4ce26f8e5",
   "metadata": {},
   "outputs": [],
   "source": [
    "p = [45,23,54,243,5,6,4,23]"
   ]
  },
  {
   "cell_type": "code",
   "execution_count": 26,
   "id": "0db2d4eb-4d93-4da7-82ef-c07a4c810807",
   "metadata": {},
   "outputs": [],
   "source": [
    "emp = [4334,'rahul','pune',['IT','Banglore']]"
   ]
  },
  {
   "cell_type": "code",
   "execution_count": 28,
   "id": "c6575b1f-e291-4783-a712-39dc1cea003c",
   "metadata": {},
   "outputs": [
    {
     "data": {
      "text/plain": [
       "'IT'"
      ]
     },
     "execution_count": 28,
     "metadata": {},
     "output_type": "execute_result"
    }
   ],
   "source": [
    "emp[3][0]"
   ]
  },
  {
   "cell_type": "code",
   "execution_count": 30,
   "id": "e453ce07-a0fa-4f86-8e29-4114db350d44",
   "metadata": {},
   "outputs": [
    {
     "data": {
      "text/plain": [
       "'IT'"
      ]
     },
     "execution_count": 30,
     "metadata": {},
     "output_type": "execute_result"
    }
   ],
   "source": [
    "emp[-1][0]"
   ]
  },
  {
   "cell_type": "code",
   "execution_count": 32,
   "id": "ccf45836-17e7-4a34-84f3-d7ea9286d132",
   "metadata": {},
   "outputs": [
    {
     "data": {
      "text/plain": [
       "'IT'"
      ]
     },
     "execution_count": 32,
     "metadata": {},
     "output_type": "execute_result"
    }
   ],
   "source": [
    "emp[-1][-2]"
   ]
  },
  {
   "cell_type": "code",
   "execution_count": 35,
   "id": "06127058-b732-4b72-a9ef-147f4b7c188d",
   "metadata": {},
   "outputs": [],
   "source": [
    "p = [32,[34,65,34,[56,98,23,[87,100,200,[65,34,'pune',76]]],56,45654,]]"
   ]
  },
  {
   "cell_type": "code",
   "execution_count": 46,
   "id": "29562f12-0b45-4a6a-836d-7c1ca82cdc4b",
   "metadata": {},
   "outputs": [
    {
     "data": {
      "text/plain": [
       "'pune'"
      ]
     },
     "execution_count": 46,
     "metadata": {},
     "output_type": "execute_result"
    }
   ],
   "source": [
    "p[1][3][3][3][2]"
   ]
  },
  {
   "cell_type": "code",
   "execution_count": null,
   "id": "4f0ce0df-d5bb-41d3-b34c-4515b105f19c",
   "metadata": {},
   "outputs": [],
   "source": [
    "Assigment = \n",
    "\n",
    "p = [32,[34,65,34,[56,98,23,[87,100,200,[65,34,'pune',76]],'ml'],56,45654,]]\n",
    "\n",
    "\n",
    "access : \n",
    "\n",
    "100\n",
    "98\n",
    "76\n",
    "'ml'"
   ]
  },
  {
   "cell_type": "code",
   "execution_count": null,
   "id": "face4d5f-30d2-44d8-af29-c62bf3a2bba8",
   "metadata": {},
   "outputs": [],
   "source": []
  }
 ],
 "metadata": {
  "kernelspec": {
   "display_name": "Python 3 (ipykernel)",
   "language": "python",
   "name": "python3"
  },
  "language_info": {
   "codemirror_mode": {
    "name": "ipython",
    "version": 3
   },
   "file_extension": ".py",
   "mimetype": "text/x-python",
   "name": "python",
   "nbconvert_exporter": "python",
   "pygments_lexer": "ipython3",
   "version": "3.12.7"
  }
 },
 "nbformat": 4,
 "nbformat_minor": 5
}
