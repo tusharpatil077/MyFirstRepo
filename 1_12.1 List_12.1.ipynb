{
 "cells": [
  {
   "cell_type": "code",
   "execution_count": null,
   "id": "2c11e7e5-4adc-4027-852d-449fee232249",
   "metadata": {},
   "outputs": [],
   "source": [
    "list:\n",
    "it is collection of elements\n",
    "it is denoted by []\n",
    "it is mutable type DS\n",
    "it is ordered DS\n",
    "it can contain duplicate elements\n",
    "operation on list:\n"
   ]
  },
  {
   "cell_type": "code",
   "execution_count": 3,
   "id": "7f2b3db9-1144-4e81-b216-02b74a3db28a",
   "metadata": {},
   "outputs": [],
   "source": [
    "p = [5,423,76,34,65,5,5,5,5]"
   ]
  },
  {
   "cell_type": "code",
   "execution_count": 4,
   "id": "02aa9deb-9ccf-4aff-84fd-73e3539128d5",
   "metadata": {},
   "outputs": [
    {
     "data": {
      "text/plain": [
       "[5, 423, 76, 34, 65, 5, 5, 5, 5]"
      ]
     },
     "execution_count": 4,
     "metadata": {},
     "output_type": "execute_result"
    }
   ],
   "source": [
    "p"
   ]
  },
  {
   "cell_type": "code",
   "execution_count": null,
   "id": "66ce2628-7b79-492e-b495-9735b2da2759",
   "metadata": {},
   "outputs": [],
   "source": [
    "Operation:\n",
    "1.insertion:\n",
    "    1.insert\n",
    "    2.append\n",
    "    3.extend\n",
    "    "
   ]
  },
  {
   "cell_type": "code",
   "execution_count": null,
   "id": "54e2bd5f-e66d-469e-a261-cbf0bdd718f6",
   "metadata": {},
   "outputs": [],
   "source": [
    "insert(index,element) :\n",
    "to insert single element at the given location/index"
   ]
  },
  {
   "cell_type": "code",
   "execution_count": 5,
   "id": "81c583bd-0225-4d9a-80d2-92e4785476c8",
   "metadata": {},
   "outputs": [],
   "source": [
    "emp = [101,'Rahul','rahul@gmail.com']"
   ]
  },
  {
   "cell_type": "code",
   "execution_count": 6,
   "id": "162b30b6-3ebf-4c8c-8175-4d8afadf5bf2",
   "metadata": {},
   "outputs": [],
   "source": [
    "emp.insert(2,5644564)"
   ]
  },
  {
   "cell_type": "code",
   "execution_count": 7,
   "id": "7073a7e8-45ff-4e97-8cbe-c58fb0566494",
   "metadata": {},
   "outputs": [
    {
     "data": {
      "text/plain": [
       "[101, 'Rahul', 5644564, 'rahul@gmail.com']"
      ]
     },
     "execution_count": 7,
     "metadata": {},
     "output_type": "execute_result"
    }
   ],
   "source": [
    "emp"
   ]
  },
  {
   "cell_type": "code",
   "execution_count": 8,
   "id": "2e2c01ff-8f88-4b58-969d-4cbb8639ea5d",
   "metadata": {},
   "outputs": [],
   "source": [
    "emp.insert(1,'Admin')"
   ]
  },
  {
   "cell_type": "code",
   "execution_count": 9,
   "id": "f90c2e16-14f5-469d-a690-1ef320c93ac8",
   "metadata": {},
   "outputs": [
    {
     "data": {
      "text/plain": [
       "[101, 'Admin', 'Rahul', 5644564, 'rahul@gmail.com']"
      ]
     },
     "execution_count": 9,
     "metadata": {},
     "output_type": "execute_result"
    }
   ],
   "source": [
    "emp"
   ]
  },
  {
   "cell_type": "code",
   "execution_count": 10,
   "id": "4dc9c715-d2a2-4e35-98b2-cd08e3925253",
   "metadata": {},
   "outputs": [],
   "source": [
    "emp.insert(3434,'A')"
   ]
  },
  {
   "cell_type": "code",
   "execution_count": 11,
   "id": "19ea7794-bf52-4f6e-823f-e92ccb15e676",
   "metadata": {},
   "outputs": [
    {
     "data": {
      "text/plain": [
       "[101, 'Admin', 'Rahul', 5644564, 'rahul@gmail.com', 'A']"
      ]
     },
     "execution_count": 11,
     "metadata": {},
     "output_type": "execute_result"
    }
   ],
   "source": [
    "emp"
   ]
  },
  {
   "cell_type": "code",
   "execution_count": 12,
   "id": "5b5bb441-301c-46a1-9c1f-c367e94e96f5",
   "metadata": {},
   "outputs": [
    {
     "ename": "TypeError",
     "evalue": "insert expected 2 arguments, got 1",
     "output_type": "error",
     "traceback": [
      "\u001b[1;31m---------------------------------------------------------------------------\u001b[0m",
      "\u001b[1;31mTypeError\u001b[0m                                 Traceback (most recent call last)",
      "Cell \u001b[1;32mIn[12], line 1\u001b[0m\n\u001b[1;32m----> 1\u001b[0m emp\u001b[38;5;241m.\u001b[39minsert(\u001b[38;5;241m654655\u001b[39m)\n",
      "\u001b[1;31mTypeError\u001b[0m: insert expected 2 arguments, got 1"
     ]
    }
   ],
   "source": [
    "emp.insert(654655)"
   ]
  },
  {
   "cell_type": "code",
   "execution_count": 13,
   "id": "2ea6bdc5-d61b-44eb-a9fd-a136d30fc128",
   "metadata": {},
   "outputs": [
    {
     "ename": "TypeError",
     "evalue": "insert expected 2 arguments, got 3",
     "output_type": "error",
     "traceback": [
      "\u001b[1;31m---------------------------------------------------------------------------\u001b[0m",
      "\u001b[1;31mTypeError\u001b[0m                                 Traceback (most recent call last)",
      "Cell \u001b[1;32mIn[13], line 1\u001b[0m\n\u001b[1;32m----> 1\u001b[0m emp\u001b[38;5;241m.\u001b[39minsert(\u001b[38;5;241m5\u001b[39m,\u001b[38;5;241m78\u001b[39m,\u001b[38;5;241m234\u001b[39m)\n",
      "\u001b[1;31mTypeError\u001b[0m: insert expected 2 arguments, got 3"
     ]
    }
   ],
   "source": [
    "emp.insert(5,78,234)"
   ]
  },
  {
   "cell_type": "code",
   "execution_count": null,
   "id": "4e3cefd4-6ce0-4d58-9b6c-a244c3ce9ae0",
   "metadata": {},
   "outputs": [],
   "source": [
    "2.append(element)\n",
    "\n",
    "to insert single element at the end"
   ]
  },
  {
   "cell_type": "code",
   "execution_count": 15,
   "id": "541f471d-a2b5-4ca9-8d1b-f1d1a3c2fa15",
   "metadata": {},
   "outputs": [],
   "source": [
    "emp.append('IT')"
   ]
  },
  {
   "cell_type": "code",
   "execution_count": 16,
   "id": "90b6cdc1-5c24-48fd-8a0c-8f0337c5fda0",
   "metadata": {},
   "outputs": [
    {
     "data": {
      "text/plain": [
       "[101, 'Admin', 'Rahul', 5644564, 'rahul@gmail.com', 'A', 'IT']"
      ]
     },
     "execution_count": 16,
     "metadata": {},
     "output_type": "execute_result"
    }
   ],
   "source": [
    "emp"
   ]
  },
  {
   "cell_type": "code",
   "execution_count": 17,
   "id": "543b8200-6d30-4c46-9fa6-34abe3375e3e",
   "metadata": {},
   "outputs": [],
   "source": [
    "p = [76,34,675,34,]"
   ]
  },
  {
   "cell_type": "code",
   "execution_count": 18,
   "id": "89496d7c-e632-49d9-b59c-970ab7abd728",
   "metadata": {},
   "outputs": [],
   "source": [
    "p.append(500)"
   ]
  },
  {
   "cell_type": "code",
   "execution_count": 19,
   "id": "723a0d8c-164c-4775-997f-e0a1fe2f8775",
   "metadata": {},
   "outputs": [
    {
     "data": {
      "text/plain": [
       "[76, 34, 675, 34, 500]"
      ]
     },
     "execution_count": 19,
     "metadata": {},
     "output_type": "execute_result"
    }
   ],
   "source": [
    "p"
   ]
  },
  {
   "cell_type": "code",
   "execution_count": null,
   "id": "4c157923-31c5-46c3-8a09-44e54e20e162",
   "metadata": {},
   "outputs": [],
   "source": [
    "3.extend([]) :\n",
    "to insert multiple elements at the end"
   ]
  },
  {
   "cell_type": "code",
   "execution_count": 20,
   "id": "11d36d8d-938f-403f-accc-8b770918ba9b",
   "metadata": {},
   "outputs": [
    {
     "data": {
      "text/plain": [
       "[76, 34, 675, 34, 500]"
      ]
     },
     "execution_count": 20,
     "metadata": {},
     "output_type": "execute_result"
    }
   ],
   "source": [
    "p"
   ]
  },
  {
   "cell_type": "code",
   "execution_count": 21,
   "id": "f740683c-0264-474f-a48c-2af50dc08999",
   "metadata": {},
   "outputs": [],
   "source": [
    "p.extend([100,200,300])"
   ]
  },
  {
   "cell_type": "code",
   "execution_count": 22,
   "id": "25dada92-fd51-4465-8247-1cd1cdbcc3c7",
   "metadata": {},
   "outputs": [
    {
     "data": {
      "text/plain": [
       "[76, 34, 675, 34, 500, 100, 200, 300]"
      ]
     },
     "execution_count": 22,
     "metadata": {},
     "output_type": "execute_result"
    }
   ],
   "source": [
    "p"
   ]
  },
  {
   "cell_type": "code",
   "execution_count": null,
   "id": "a7c199ff-0be3-46b9-911a-c735fa1a7e5c",
   "metadata": {},
   "outputs": [],
   "source": [
    "append vs extend\n",
    "single element at the end\n",
    "\n",
    "multiple element at the end"
   ]
  },
  {
   "cell_type": "code",
   "execution_count": 24,
   "id": "f275e295-13f1-4973-8f44-5a6d5ac6db4f",
   "metadata": {},
   "outputs": [],
   "source": [
    "p.append([1,2,3,4])"
   ]
  },
  {
   "cell_type": "code",
   "execution_count": 25,
   "id": "e958ba45-6db8-4ac9-b208-dfb7cda4de31",
   "metadata": {},
   "outputs": [
    {
     "data": {
      "text/plain": [
       "[76, 34, 675, 34, 500, 100, 200, 300, [1, 2, 3, 4]]"
      ]
     },
     "execution_count": 25,
     "metadata": {},
     "output_type": "execute_result"
    }
   ],
   "source": [
    "p"
   ]
  },
  {
   "cell_type": "code",
   "execution_count": 26,
   "id": "bf49bf93-5d99-4e83-b609-9241c70931e1",
   "metadata": {},
   "outputs": [],
   "source": [
    "p.append([54,23,6,423,5])"
   ]
  },
  {
   "cell_type": "code",
   "execution_count": 27,
   "id": "d9e20ab0-61cf-43e4-a42f-e4da84ca1529",
   "metadata": {},
   "outputs": [
    {
     "data": {
      "text/plain": [
       "[76, 34, 675, 34, 500, 100, 200, 300, [1, 2, 3, 4], [54, 23, 6, 423, 5]]"
      ]
     },
     "execution_count": 27,
     "metadata": {},
     "output_type": "execute_result"
    }
   ],
   "source": [
    "p"
   ]
  },
  {
   "cell_type": "code",
   "execution_count": 28,
   "id": "d6b749d0-f135-4ea8-a84a-7b103955e5c2",
   "metadata": {},
   "outputs": [],
   "source": [
    "p.insert(9,5)"
   ]
  },
  {
   "cell_type": "code",
   "execution_count": 29,
   "id": "7783d657-06ad-4d7e-a656-1dd5650dc984",
   "metadata": {},
   "outputs": [
    {
     "data": {
      "text/plain": [
       "[76, 34, 675, 34, 500, 100, 200, 300, [1, 2, 3, 4], 5, [54, 23, 6, 423, 5]]"
      ]
     },
     "execution_count": 29,
     "metadata": {},
     "output_type": "execute_result"
    }
   ],
   "source": [
    "p"
   ]
  },
  {
   "cell_type": "code",
   "execution_count": 31,
   "id": "0329348c-a0f7-4fef-9c75-7bc85a6d5648",
   "metadata": {},
   "outputs": [],
   "source": [
    "p[8].append(5)"
   ]
  },
  {
   "cell_type": "code",
   "execution_count": 32,
   "id": "802f68ac-3f24-45de-92bc-1f7753319fd0",
   "metadata": {},
   "outputs": [
    {
     "data": {
      "text/plain": [
       "[76, 34, 675, 34, 500, 100, 200, 300, [1, 2, 3, 4, 5], 5, [54, 23, 6, 423, 5]]"
      ]
     },
     "execution_count": 32,
     "metadata": {},
     "output_type": "execute_result"
    }
   ],
   "source": [
    "p"
   ]
  },
  {
   "cell_type": "code",
   "execution_count": 34,
   "id": "5c73bd48-fad4-4df0-a668-01f6864da595",
   "metadata": {},
   "outputs": [],
   "source": [
    "p[-1].insert(2,'python')"
   ]
  },
  {
   "cell_type": "code",
   "execution_count": 35,
   "id": "1e4890e8-f6ae-43f1-b0fc-6cc92a21d2fa",
   "metadata": {},
   "outputs": [
    {
     "data": {
      "text/plain": [
       "[76,\n",
       " 34,\n",
       " 675,\n",
       " 34,\n",
       " 500,\n",
       " 100,\n",
       " 200,\n",
       " 300,\n",
       " [1, 2, 3, 4, 5],\n",
       " 5,\n",
       " [54, 23, 'python', 6, 423, 5]]"
      ]
     },
     "execution_count": 35,
     "metadata": {},
     "output_type": "execute_result"
    }
   ],
   "source": [
    "p"
   ]
  },
  {
   "cell_type": "code",
   "execution_count": null,
   "id": "c9e9378a-379f-4171-87cc-c04531bf918f",
   "metadata": {},
   "outputs": [],
   "source": [
    "2.Deletion Operation\n",
    "\n",
    "1.remove\n",
    "2.pop\n",
    "3.clear"
   ]
  },
  {
   "cell_type": "code",
   "execution_count": null,
   "id": "8ba5ad31-4ce8-4de2-8334-5d81edf08cd9",
   "metadata": {},
   "outputs": [],
   "source": [
    "remove(element) :\n",
    "if element present then\n",
    "it is use to delete single element by using value\\name\n",
    "\n",
    "if not then it will return Error"
   ]
  },
  {
   "cell_type": "code",
   "execution_count": 37,
   "id": "671d3424-0e2f-4a9c-a709-2cde468a504a",
   "metadata": {},
   "outputs": [],
   "source": [
    "p.remove(500)"
   ]
  },
  {
   "cell_type": "code",
   "execution_count": 39,
   "id": "8ccc620f-8c9d-4574-bbf1-b547574b29a3",
   "metadata": {},
   "outputs": [],
   "source": [
    "p.remove(300)"
   ]
  },
  {
   "cell_type": "code",
   "execution_count": 40,
   "id": "d4e01e27-b46b-4677-81bd-ec6b7662f440",
   "metadata": {},
   "outputs": [
    {
     "data": {
      "text/plain": [
       "[76, 34, 675, 34, 100, 200, [1, 2, 3, 4, 5], 5, [54, 23, 'python', 6, 423, 5]]"
      ]
     },
     "execution_count": 40,
     "metadata": {},
     "output_type": "execute_result"
    }
   ],
   "source": [
    "p"
   ]
  },
  {
   "cell_type": "code",
   "execution_count": 41,
   "id": "5a102b63-5d19-4f58-9623-38d2c40e3e16",
   "metadata": {},
   "outputs": [
    {
     "ename": "ValueError",
     "evalue": "list.remove(x): x not in list",
     "output_type": "error",
     "traceback": [
      "\u001b[1;31m---------------------------------------------------------------------------\u001b[0m",
      "\u001b[1;31mValueError\u001b[0m                                Traceback (most recent call last)",
      "Cell \u001b[1;32mIn[41], line 1\u001b[0m\n\u001b[1;32m----> 1\u001b[0m p\u001b[38;5;241m.\u001b[39mremove(\u001b[38;5;124m'\u001b[39m\u001b[38;5;124mpython\u001b[39m\u001b[38;5;124m'\u001b[39m)\n",
      "\u001b[1;31mValueError\u001b[0m: list.remove(x): x not in list"
     ]
    }
   ],
   "source": [
    "p.remove('python')"
   ]
  },
  {
   "cell_type": "code",
   "execution_count": 44,
   "id": "5a586d86-5876-46f1-aabf-7e4255ed7246",
   "metadata": {},
   "outputs": [],
   "source": [
    "p[-1].remove('python')"
   ]
  },
  {
   "cell_type": "code",
   "execution_count": 45,
   "id": "194cfac3-1c30-44aa-8549-c1c2cad89399",
   "metadata": {},
   "outputs": [
    {
     "data": {
      "text/plain": [
       "[76, 34, 675, 34, 100, 200, [1, 2, 3, 4, 5], 5, [54, 23, 6, 423, 5]]"
      ]
     },
     "execution_count": 45,
     "metadata": {},
     "output_type": "execute_result"
    }
   ],
   "source": [
    "p"
   ]
  },
  {
   "cell_type": "code",
   "execution_count": 46,
   "id": "e0142cd4-e185-407e-b247-731d02c52da6",
   "metadata": {},
   "outputs": [],
   "source": [
    "p.remove([1, 2, 3, 4, 5])"
   ]
  },
  {
   "cell_type": "code",
   "execution_count": 47,
   "id": "4df0f6ee-e5c7-4ac1-baae-4843fb256b29",
   "metadata": {},
   "outputs": [
    {
     "data": {
      "text/plain": [
       "[76, 34, 675, 34, 100, 200, 5, [54, 23, 6, 423, 5]]"
      ]
     },
     "execution_count": 47,
     "metadata": {},
     "output_type": "execute_result"
    }
   ],
   "source": [
    "p"
   ]
  },
  {
   "cell_type": "code",
   "execution_count": 48,
   "id": "fcdc7674-9542-4db9-ab1a-af2957984883",
   "metadata": {},
   "outputs": [],
   "source": [
    "p1 = [23,76,2,3,76,34,87,3,46,7,65,23,23,7687623]"
   ]
  },
  {
   "cell_type": "code",
   "execution_count": 49,
   "id": "43528a92-1130-4c6c-89e6-883896b88694",
   "metadata": {},
   "outputs": [
    {
     "data": {
      "text/plain": [
       "[23, 76, 2, 3, 76, 34, 87, 3, 46, 7, 65, 23, 23, 7687623]"
      ]
     },
     "execution_count": 49,
     "metadata": {},
     "output_type": "execute_result"
    }
   ],
   "source": [
    "p1"
   ]
  },
  {
   "cell_type": "code",
   "execution_count": 50,
   "id": "1528566a-5535-4269-8ff7-684f9d60b8a1",
   "metadata": {},
   "outputs": [],
   "source": [
    "p1.remove(23)"
   ]
  },
  {
   "cell_type": "code",
   "execution_count": 51,
   "id": "325aa7f6-31f3-4d50-aed6-a246d4f6249a",
   "metadata": {},
   "outputs": [
    {
     "data": {
      "text/plain": [
       "[76, 2, 3, 76, 34, 87, 3, 46, 7, 65, 23, 23, 7687623]"
      ]
     },
     "execution_count": 51,
     "metadata": {},
     "output_type": "execute_result"
    }
   ],
   "source": [
    "p1"
   ]
  },
  {
   "cell_type": "code",
   "execution_count": 52,
   "id": "38543a24-9622-499f-85cb-0cee5cf87924",
   "metadata": {},
   "outputs": [],
   "source": [
    "p1.remove(34)"
   ]
  },
  {
   "cell_type": "code",
   "execution_count": 53,
   "id": "054f0255-f62f-4eb4-83d7-5d4147f8241a",
   "metadata": {},
   "outputs": [
    {
     "data": {
      "text/plain": [
       "[76, 2, 3, 76, 87, 3, 46, 7, 65, 23, 23, 7687623]"
      ]
     },
     "execution_count": 53,
     "metadata": {},
     "output_type": "execute_result"
    }
   ],
   "source": [
    "p1"
   ]
  },
  {
   "cell_type": "code",
   "execution_count": null,
   "id": "c266903c-086b-424e-b18e-e162d7b22d31",
   "metadata": {},
   "outputs": [],
   "source": [
    "2.pop(index=-1) :\n",
    "if element present then delete single element using index number\n",
    "\n",
    "if not then by defualt it will delete last element"
   ]
  },
  {
   "cell_type": "code",
   "execution_count": 55,
   "id": "c4a207e4-0efc-4b9f-a318-686683dd1803",
   "metadata": {},
   "outputs": [
    {
     "data": {
      "text/plain": [
       "100"
      ]
     },
     "execution_count": 55,
     "metadata": {},
     "output_type": "execute_result"
    }
   ],
   "source": [
    "p.pop(4)"
   ]
  },
  {
   "cell_type": "code",
   "execution_count": 56,
   "id": "bdc5ae5d-8d67-4e68-b1b1-fc53600edf4f",
   "metadata": {},
   "outputs": [
    {
     "data": {
      "text/plain": [
       "[76, 34, 675, 34, 200, 5, [54, 23, 6, 423, 5]]"
      ]
     },
     "execution_count": 56,
     "metadata": {},
     "output_type": "execute_result"
    }
   ],
   "source": [
    "p"
   ]
  },
  {
   "cell_type": "code",
   "execution_count": 57,
   "id": "bca1b603-d9c1-48de-a3f3-eda003a35728",
   "metadata": {},
   "outputs": [
    {
     "data": {
      "text/plain": [
       "[54, 23, 6, 423, 5]"
      ]
     },
     "execution_count": 57,
     "metadata": {},
     "output_type": "execute_result"
    }
   ],
   "source": [
    "p.pop()"
   ]
  },
  {
   "cell_type": "code",
   "execution_count": 58,
   "id": "6ef0ec48-c4a3-4057-84ab-79083be9d6f3",
   "metadata": {},
   "outputs": [
    {
     "data": {
      "text/plain": [
       "[76, 34, 675, 34, 200, 5]"
      ]
     },
     "execution_count": 58,
     "metadata": {},
     "output_type": "execute_result"
    }
   ],
   "source": [
    "p"
   ]
  },
  {
   "cell_type": "code",
   "execution_count": 59,
   "id": "f3488a17-61b5-47bb-bb22-c64a2e874afe",
   "metadata": {},
   "outputs": [
    {
     "ename": "TypeError",
     "evalue": "list.remove() takes exactly one argument (0 given)",
     "output_type": "error",
     "traceback": [
      "\u001b[1;31m---------------------------------------------------------------------------\u001b[0m",
      "\u001b[1;31mTypeError\u001b[0m                                 Traceback (most recent call last)",
      "Cell \u001b[1;32mIn[59], line 1\u001b[0m\n\u001b[1;32m----> 1\u001b[0m p\u001b[38;5;241m.\u001b[39mremove()\n",
      "\u001b[1;31mTypeError\u001b[0m: list.remove() takes exactly one argument (0 given)"
     ]
    }
   ],
   "source": [
    "p.remove()"
   ]
  },
  {
   "cell_type": "code",
   "execution_count": 60,
   "id": "9c1354b8-5962-4079-a1de-6dae9c6ace63",
   "metadata": {},
   "outputs": [
    {
     "data": {
      "text/plain": [
       "5"
      ]
     },
     "execution_count": 60,
     "metadata": {},
     "output_type": "execute_result"
    }
   ],
   "source": [
    "p.pop()"
   ]
  },
  {
   "cell_type": "code",
   "execution_count": 61,
   "id": "adf7b667-3ad1-4f7d-a7c3-7f057b10f364",
   "metadata": {},
   "outputs": [
    {
     "data": {
      "text/plain": [
       "[76, 34, 675, 34, 200]"
      ]
     },
     "execution_count": 61,
     "metadata": {},
     "output_type": "execute_result"
    }
   ],
   "source": [
    "p"
   ]
  },
  {
   "cell_type": "code",
   "execution_count": 62,
   "id": "260666f7-0751-46b0-ba3f-55df0f408419",
   "metadata": {},
   "outputs": [],
   "source": [
    "p = [54,23,6,4,23,6,43,4,75,23,64,43,6,5,34,6,4,43,75,324,5,45,435,345]"
   ]
  },
  {
   "cell_type": "code",
   "execution_count": 63,
   "id": "3b93aad0-08cf-45d7-bd0d-8cb188885953",
   "metadata": {},
   "outputs": [
    {
     "data": {
      "text/plain": [
       "10"
      ]
     },
     "execution_count": 63,
     "metadata": {},
     "output_type": "execute_result"
    }
   ],
   "source": [
    "p.index(64)"
   ]
  },
  {
   "cell_type": "code",
   "execution_count": null,
   "id": "3ba47b13-24f9-4e2e-bfa4-d9ad8a1ae836",
   "metadata": {},
   "outputs": [],
   "source": [
    "clear() :\n",
    "to delete all the elements from the list"
   ]
  },
  {
   "cell_type": "code",
   "execution_count": 65,
   "id": "e704b041-83ad-48cb-936b-a2809dd67339",
   "metadata": {},
   "outputs": [],
   "source": [
    "p.clear()"
   ]
  },
  {
   "cell_type": "code",
   "execution_count": 66,
   "id": "2be4f12f-1ce3-4f89-ac4e-620dd4c1675b",
   "metadata": {},
   "outputs": [
    {
     "data": {
      "text/plain": [
       "[]"
      ]
     },
     "execution_count": 66,
     "metadata": {},
     "output_type": "execute_result"
    }
   ],
   "source": [
    "p"
   ]
  },
  {
   "cell_type": "code",
   "execution_count": null,
   "id": "59c5950a-2122-4240-9ee2-50da45974c75",
   "metadata": {},
   "outputs": [],
   "source": [
    "#Interview \n",
    "del vs clear"
   ]
  },
  {
   "cell_type": "code",
   "execution_count": null,
   "id": "4f6e9aab-6f9d-4f50-ba55-e6e53f2f3909",
   "metadata": {},
   "outputs": [],
   "source": [
    "clear : it will delete all the element but list structure remains in the memory\n",
    "\n",
    "\n",
    "del : it will delete complete structure along with elements"
   ]
  },
  {
   "cell_type": "code",
   "execution_count": 67,
   "id": "17de8b8a-07b6-4529-a9d1-dcca8f2b57cc",
   "metadata": {},
   "outputs": [],
   "source": [
    "p = [65,3,65,3,4]"
   ]
  },
  {
   "cell_type": "code",
   "execution_count": 68,
   "id": "5394d3a0-3237-45e8-b40e-2f55a727da83",
   "metadata": {},
   "outputs": [],
   "source": [
    "p.clear()"
   ]
  },
  {
   "cell_type": "code",
   "execution_count": 69,
   "id": "8a934278-e981-4c69-9785-e5c40b96ea98",
   "metadata": {},
   "outputs": [
    {
     "data": {
      "text/plain": [
       "[]"
      ]
     },
     "execution_count": 69,
     "metadata": {},
     "output_type": "execute_result"
    }
   ],
   "source": [
    "p"
   ]
  },
  {
   "cell_type": "code",
   "execution_count": 70,
   "id": "43ac3b77-4fbc-4bcc-bbf9-2f15d4516a91",
   "metadata": {},
   "outputs": [],
   "source": [
    "p = [65,3,65,3,4]"
   ]
  },
  {
   "cell_type": "code",
   "execution_count": 71,
   "id": "21d778f9-b14c-4f87-8439-dae7d49d3827",
   "metadata": {},
   "outputs": [],
   "source": [
    "del p"
   ]
  },
  {
   "cell_type": "code",
   "execution_count": 72,
   "id": "d016e9a0-ac7a-46bd-90d9-1c9fce907e55",
   "metadata": {},
   "outputs": [
    {
     "ename": "NameError",
     "evalue": "name 'p' is not defined",
     "output_type": "error",
     "traceback": [
      "\u001b[1;31m---------------------------------------------------------------------------\u001b[0m",
      "\u001b[1;31mNameError\u001b[0m                                 Traceback (most recent call last)",
      "Cell \u001b[1;32mIn[72], line 1\u001b[0m\n\u001b[1;32m----> 1\u001b[0m p\n",
      "\u001b[1;31mNameError\u001b[0m: name 'p' is not defined"
     ]
    }
   ],
   "source": [
    "p"
   ]
  },
  {
   "cell_type": "code",
   "execution_count": 73,
   "id": "01306b33-c168-49b9-854b-101dd5adfdea",
   "metadata": {},
   "outputs": [],
   "source": [
    "p = [564,23,65,2,36,5]"
   ]
  },
  {
   "cell_type": "code",
   "execution_count": 74,
   "id": "a5659484-165f-4bf7-81f4-64720479524a",
   "metadata": {},
   "outputs": [
    {
     "data": {
      "text/plain": [
       "[101, 'Admin', 'Rahul', 5644564, 'rahul@gmail.com', 'A', 'IT']"
      ]
     },
     "execution_count": 74,
     "metadata": {},
     "output_type": "execute_result"
    }
   ],
   "source": [
    "emp"
   ]
  },
  {
   "cell_type": "code",
   "execution_count": null,
   "id": "84f32456-6a6f-4b4b-8c5f-3ef517761e28",
   "metadata": {},
   "outputs": [],
   "source": [
    "Updation :\n",
    "specific method -- no method"
   ]
  },
  {
   "cell_type": "code",
   "execution_count": 76,
   "id": "5222b15c-65fd-4208-b1b0-df1ad9f08f26",
   "metadata": {},
   "outputs": [],
   "source": [
    "emp[4] = 'rahul123@gmail.com'"
   ]
  },
  {
   "cell_type": "code",
   "execution_count": 77,
   "id": "6495f0fb-66c2-4aa1-b57a-50f6f602ee96",
   "metadata": {},
   "outputs": [
    {
     "data": {
      "text/plain": [
       "[101, 'Admin', 'Rahul', 5644564, 'rahul123@gmail.com', 'A', 'IT']"
      ]
     },
     "execution_count": 77,
     "metadata": {},
     "output_type": "execute_result"
    }
   ],
   "source": [
    "emp"
   ]
  },
  {
   "cell_type": "code",
   "execution_count": 78,
   "id": "f92086fa-cb88-4a4c-920f-0f09be04b19b",
   "metadata": {},
   "outputs": [],
   "source": [
    "emp[-1] = 'Admin'"
   ]
  },
  {
   "cell_type": "code",
   "execution_count": 79,
   "id": "3fc48f81-5718-4569-ac05-84739f876cef",
   "metadata": {},
   "outputs": [
    {
     "data": {
      "text/plain": [
       "[101, 'Admin', 'Rahul', 5644564, 'rahul123@gmail.com', 'A', 'Admin']"
      ]
     },
     "execution_count": 79,
     "metadata": {},
     "output_type": "execute_result"
    }
   ],
   "source": [
    "emp"
   ]
  },
  {
   "cell_type": "code",
   "execution_count": null,
   "id": "a48b4039-cebd-4641-85ff-180690567a6b",
   "metadata": {},
   "outputs": [],
   "source": [
    "Other Operation:\n",
    "count(element) : element occurance\n",
    "index\n",
    "sort\n",
    "reverse"
   ]
  },
  {
   "cell_type": "code",
   "execution_count": 81,
   "id": "fc04e158-3136-455e-8f56-51b926bafb00",
   "metadata": {},
   "outputs": [],
   "source": [
    "p = [564, 23, 65, 2, 36, 5,5,5,5,5,6,6,6,3,3,3,4,6,7,3,43]"
   ]
  },
  {
   "cell_type": "code",
   "execution_count": 82,
   "id": "c2c0cde0-a454-4683-a1d3-b069f388282d",
   "metadata": {},
   "outputs": [
    {
     "data": {
      "text/plain": [
       "5"
      ]
     },
     "execution_count": 82,
     "metadata": {},
     "output_type": "execute_result"
    }
   ],
   "source": [
    "p.count(5)"
   ]
  },
  {
   "cell_type": "code",
   "execution_count": 83,
   "id": "56d1543a-c05f-4138-88f2-21f3650e9ec9",
   "metadata": {},
   "outputs": [],
   "source": [
    "sal = [645,23,67,65,323,65,75,756,743,4534,65343]"
   ]
  },
  {
   "cell_type": "code",
   "execution_count": 84,
   "id": "781169d2-7cd9-47a0-bdf4-93cc69c897c1",
   "metadata": {},
   "outputs": [
    {
     "data": {
      "text/plain": [
       "2"
      ]
     },
     "execution_count": 84,
     "metadata": {},
     "output_type": "execute_result"
    }
   ],
   "source": [
    "sal.count(65)"
   ]
  },
  {
   "cell_type": "code",
   "execution_count": null,
   "id": "6aac00d0-4334-4da8-b6eb-a91890613e88",
   "metadata": {},
   "outputs": [],
   "source": [
    "interview  - dict\n",
    "{645 : count ,23 :count}"
   ]
  },
  {
   "cell_type": "code",
   "execution_count": 85,
   "id": "bbea36ce-dab1-4e9d-9f07-4bb090aec6d2",
   "metadata": {},
   "outputs": [
    {
     "data": {
      "text/plain": [
       "[564, 23, 65, 2, 36, 5, 5, 5, 5, 5, 6, 6, 6, 3, 3, 3, 4, 6, 7, 3, 43]"
      ]
     },
     "execution_count": 85,
     "metadata": {},
     "output_type": "execute_result"
    }
   ],
   "source": [
    "p"
   ]
  },
  {
   "cell_type": "code",
   "execution_count": 86,
   "id": "ae95fd6c-c58e-4480-8a7c-a890de892a2d",
   "metadata": {},
   "outputs": [
    {
     "data": {
      "text/plain": [
       "21"
      ]
     },
     "execution_count": 86,
     "metadata": {},
     "output_type": "execute_result"
    }
   ],
   "source": [
    "len(p)"
   ]
  },
  {
   "cell_type": "code",
   "execution_count": 87,
   "id": "12525af4-0265-40d6-975b-2d94b6b1399c",
   "metadata": {},
   "outputs": [
    {
     "data": {
      "text/plain": [
       "[101, 'Admin', 'Rahul', 5644564, 'rahul123@gmail.com', 'A', 'Admin']"
      ]
     },
     "execution_count": 87,
     "metadata": {},
     "output_type": "execute_result"
    }
   ],
   "source": [
    "emp"
   ]
  },
  {
   "cell_type": "code",
   "execution_count": 88,
   "id": "1ef175b7-7bfc-4f3d-9f0a-8315a32be8ea",
   "metadata": {},
   "outputs": [
    {
     "data": {
      "text/plain": [
       "[564, 23, 65, 2, 36, 5, 5, 5, 5, 5, 6, 6, 6, 3, 3, 3, 4, 6, 7, 3, 43]"
      ]
     },
     "execution_count": 88,
     "metadata": {},
     "output_type": "execute_result"
    }
   ],
   "source": [
    "p"
   ]
  },
  {
   "cell_type": "code",
   "execution_count": 89,
   "id": "3608d72c-e38a-46de-90d6-4f070e3574e1",
   "metadata": {},
   "outputs": [
    {
     "name": "stdout",
     "output_type": "stream",
     "text": [
      "{564: 1, 23: 1, 65: 1, 2: 1, 36: 1, 5: 5, 6: 4, 3: 4, 4: 1, 7: 1, 43: 1}\n"
     ]
    }
   ],
   "source": [
    "d = {}\n",
    "for i in p:\n",
    "    if i in d:\n",
    "        d[i]+=1\n",
    "    else:\n",
    "        d[i]=1\n",
    "print(d)"
   ]
  },
  {
   "cell_type": "code",
   "execution_count": null,
   "id": "40f8e2af-ac70-498d-bcd1-3d40b95f4e44",
   "metadata": {},
   "outputs": [],
   "source": []
  },
  {
   "cell_type": "code",
   "execution_count": null,
   "id": "7cb65608-125c-46d9-960a-9d01e159d3c1",
   "metadata": {},
   "outputs": [],
   "source": [
    "inbuilt -->"
   ]
  },
  {
   "cell_type": "code",
   "execution_count": 91,
   "id": "35fc7431-7b0e-4097-935e-9b35a4b3ca12",
   "metadata": {},
   "outputs": [
    {
     "data": {
      "text/plain": [
       "{564: 1, 23: 1, 65: 1, 2: 1, 36: 1, 5: 5, 6: 4, 3: 4, 4: 1, 7: 1, 43: 1}"
      ]
     },
     "execution_count": 91,
     "metadata": {},
     "output_type": "execute_result"
    }
   ],
   "source": [
    "{i : p.count(i) for i in p}"
   ]
  },
  {
   "cell_type": "code",
   "execution_count": 92,
   "id": "65252fd3-8737-4df0-ad06-96472d70a574",
   "metadata": {},
   "outputs": [],
   "source": [
    "p = 'python'"
   ]
  },
  {
   "cell_type": "code",
   "execution_count": 93,
   "id": "f1077c7d-e1a4-4445-831f-35fb2596fa80",
   "metadata": {},
   "outputs": [
    {
     "data": {
      "text/plain": [
       "'nohtyp'"
      ]
     },
     "execution_count": 93,
     "metadata": {},
     "output_type": "execute_result"
    }
   ],
   "source": [
    "for \n",
    "if \n"
   ]
  },
  {
   "cell_type": "code",
   "execution_count": 94,
   "id": "1cd6f3f3-24a8-4646-855d-83a29b25309f",
   "metadata": {},
   "outputs": [
    {
     "data": {
      "text/plain": [
       "[101, 'Admin', 'Rahul', 5644564, 'rahul123@gmail.com', 'A', 'Admin']"
      ]
     },
     "execution_count": 94,
     "metadata": {},
     "output_type": "execute_result"
    }
   ],
   "source": [
    "emp"
   ]
  },
  {
   "cell_type": "code",
   "execution_count": 95,
   "id": "38bbc589-36bb-476e-a1cb-1291e1d9c5ae",
   "metadata": {},
   "outputs": [
    {
     "data": {
      "text/plain": [
       "5"
      ]
     },
     "execution_count": 95,
     "metadata": {},
     "output_type": "execute_result"
    }
   ],
   "source": [
    "emp.index('A')"
   ]
  },
  {
   "cell_type": "code",
   "execution_count": 102,
   "id": "d90a4e64-0d35-479c-b16d-c8bcc457ebdf",
   "metadata": {},
   "outputs": [],
   "source": [
    "p = [4,7665,34,65,3,45,3,6,4]"
   ]
  },
  {
   "cell_type": "code",
   "execution_count": 99,
   "id": "56898dc9-ad43-4ae9-8639-ced9c00c4fb7",
   "metadata": {},
   "outputs": [
    {
     "data": {
      "text/plain": [
       "0"
      ]
     },
     "execution_count": 99,
     "metadata": {},
     "output_type": "execute_result"
    }
   ],
   "source": [
    "p.index(4)"
   ]
  },
  {
   "cell_type": "code",
   "execution_count": null,
   "id": "d691b703-911d-443f-ad16-b06d77fdfc39",
   "metadata": {},
   "outputs": [],
   "source": [
    "sort():\n",
    "element arranged in asc | desc"
   ]
  },
  {
   "cell_type": "code",
   "execution_count": 103,
   "id": "cc44740b-3ea3-4ff1-930c-224e239da2fe",
   "metadata": {},
   "outputs": [],
   "source": [
    "p.sort(reverse=True)"
   ]
  },
  {
   "cell_type": "code",
   "execution_count": 104,
   "id": "8385207b-e17f-4dd0-a771-de9a49bc8f8c",
   "metadata": {},
   "outputs": [
    {
     "data": {
      "text/plain": [
       "[7665, 65, 45, 34, 6, 4, 4, 3, 3]"
      ]
     },
     "execution_count": 104,
     "metadata": {},
     "output_type": "execute_result"
    }
   ],
   "source": [
    "p"
   ]
  },
  {
   "cell_type": "code",
   "execution_count": 105,
   "id": "6f8be7d7-04cb-497c-a7dc-216e24253f71",
   "metadata": {},
   "outputs": [],
   "source": [
    "p = [54,32,65,34,54,34,'Python','ml']"
   ]
  },
  {
   "cell_type": "code",
   "execution_count": 106,
   "id": "a28f547b-020f-4a73-91ec-c687e3088cd2",
   "metadata": {},
   "outputs": [
    {
     "ename": "TypeError",
     "evalue": "'<' not supported between instances of 'str' and 'int'",
     "output_type": "error",
     "traceback": [
      "\u001b[1;31m---------------------------------------------------------------------------\u001b[0m",
      "\u001b[1;31mTypeError\u001b[0m                                 Traceback (most recent call last)",
      "Cell \u001b[1;32mIn[106], line 1\u001b[0m\n\u001b[1;32m----> 1\u001b[0m p\u001b[38;5;241m.\u001b[39msort()\n",
      "\u001b[1;31mTypeError\u001b[0m: '<' not supported between instances of 'str' and 'int'"
     ]
    }
   ],
   "source": [
    "p.sort()"
   ]
  },
  {
   "cell_type": "code",
   "execution_count": 107,
   "id": "6a7ed00f-7f8e-4960-9dae-c0539fcd7a3a",
   "metadata": {},
   "outputs": [],
   "source": [
    "p = ['dsf','yretg','sdfsd']"
   ]
  },
  {
   "cell_type": "code",
   "execution_count": 108,
   "id": "5cf9b93a-2adf-40fa-a869-f31f6da8ed04",
   "metadata": {},
   "outputs": [],
   "source": [
    "p.sort()"
   ]
  },
  {
   "cell_type": "code",
   "execution_count": 109,
   "id": "eccf1b82-3694-43c5-b0e8-9293b9d2c74c",
   "metadata": {},
   "outputs": [
    {
     "data": {
      "text/plain": [
       "['dsf', 'sdfsd', 'yretg']"
      ]
     },
     "execution_count": 109,
     "metadata": {},
     "output_type": "execute_result"
    }
   ],
   "source": [
    "p"
   ]
  },
  {
   "cell_type": "code",
   "execution_count": null,
   "id": "aa626b9e-88fc-4f70-a72e-33a92df9f85b",
   "metadata": {},
   "outputs": [],
   "source": [
    "ASCII value\n",
    "\n",
    "American Standard Code Information Interchange"
   ]
  }
 ],
 "metadata": {
  "kernelspec": {
   "display_name": "Python 3 (ipykernel)",
   "language": "python",
   "name": "python3"
  },
  "language_info": {
   "codemirror_mode": {
    "name": "ipython",
    "version": 3
   },
   "file_extension": ".py",
   "mimetype": "text/x-python",
   "name": "python",
   "nbconvert_exporter": "python",
   "pygments_lexer": "ipython3",
   "version": "3.12.7"
  }
 },
 "nbformat": 4,
 "nbformat_minor": 5
}
