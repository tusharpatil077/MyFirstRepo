1. allowed characters:- a-z | A-Z | _
2. never starts with numbers
3. no limit on identifier length
	*Case Rule
		1. Pascal case :- Start with upper case
		2. camel case :- Start with lower case - iPhone
		3. snake case :- connect word with underscore - emp_id
4. We cant use keyword as a identifier
**There are 35 keywords in python**
5. Python is case sensitive language. a and A is different

B. Data Types
	1. int - complete number, incomplete number=
	2. str - single char, multi char 
	3. float -  
	4. Bool - True false
	5. None - Empty
	6. Complex - real / imagine
C. Data Structure
	1. list- collection of element/data type- denoted by square bracket
	if element are same type
	homogeneous list
	if not
	heterogeneous list
	It is mutable/Changable/unhashable
	
	on basis of mutable and immutable property segregate data structure
	emp_details=[101,'keshav','A+',23423.234,True,None]

	1. mutable - add delete update -data
	element stored at index
	forward index-start with 0-end with len-1, positive index
	 reverse/negative index- start with -1 end with -1
	2. immutable
	2. tuple-imutable
