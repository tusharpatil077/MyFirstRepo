{
 "cells": [
  {
   "cell_type": "code",
   "execution_count": null,
   "id": "6406990c-b865-483b-aa4e-5e4d6bdb139d",
   "metadata": {},
   "outputs": [],
   "source": [
    "tuple:\n",
    "it is collection of elements\n",
    "it is immutable type [we cannt change its structure once define]- read only type\n",
    "it is denoted by ()\n",
    "it can contain duplicate elements\n",
    "it is ordered type DS\n",
    "indexing same as list\n",
    "tuple is faster than list\n",
    "data which is not frequently change---> tuple"
   ]
  },
  {
   "cell_type": "code",
   "execution_count": 1,
   "id": "570614bb-4d8c-469a-acc8-ac29995a20b5",
   "metadata": {},
   "outputs": [],
   "source": [
    "p = (32,65,4523,54)"
   ]
  },
  {
   "cell_type": "code",
   "execution_count": 2,
   "id": "02260753-b1ae-43a6-8d48-9a98a01c496e",
   "metadata": {},
   "outputs": [
    {
     "data": {
      "text/plain": [
       "(32, 65, 4523, 54)"
      ]
     },
     "execution_count": 2,
     "metadata": {},
     "output_type": "execute_result"
    }
   ],
   "source": [
    "p"
   ]
  },
  {
   "cell_type": "code",
   "execution_count": 5,
   "id": "532f2017-e0b2-47a4-a4d6-7d6e7c4c85d3",
   "metadata": {},
   "outputs": [],
   "source": [
    "p = {32,65,4523,54,'a'}"
   ]
  },
  {
   "cell_type": "code",
   "execution_count": 6,
   "id": "780a2038-afac-4799-aa1a-4c2565687792",
   "metadata": {},
   "outputs": [
    {
     "data": {
      "text/plain": [
       "{32, 4523, 54, 65, 'a'}"
      ]
     },
     "execution_count": 6,
     "metadata": {},
     "output_type": "execute_result"
    }
   ],
   "source": [
    "p"
   ]
  },
  {
   "cell_type": "code",
   "execution_count": null,
   "id": "b5e8981f-ee3b-4f39-9baf-9c22d1b20a9d",
   "metadata": {},
   "outputs": [],
   "source": [
    "list vs tuple:\n",
    "mutable vs immutable\n",
    "faster vs slower\n"
   ]
  },
  {
   "cell_type": "code",
   "execution_count": 7,
   "id": "57d4c390-0c22-4ed2-8257-b8f88bc895f7",
   "metadata": {},
   "outputs": [],
   "source": [
    "p = (34,67,323)"
   ]
  },
  {
   "cell_type": "code",
   "execution_count": null,
   "id": "196ec7e1-d6ba-4b53-ba28-d4faef371533",
   "metadata": {},
   "outputs": [],
   "source": [
    "p fixed + variable"
   ]
  },
  {
   "cell_type": "code",
   "execution_count": null,
   "id": "3c59e3f8-64f1-472a-a659-6285d8168345",
   "metadata": {},
   "outputs": [],
   "source": [
    "p= [54,7,6,23,,67665,43,56,32,4,6,45,432,356,65,345,46,456,435,435,43,5]"
   ]
  },
  {
   "cell_type": "code",
   "execution_count": null,
   "id": "5614a4de-9351-4286-b373-34acc4ffa43f",
   "metadata": {},
   "outputs": [],
   "source": [
    "Interviews:\n",
    "\n",
    "on the basic speed of execution \n",
    "\n",
    "numpy > tuple > list"
   ]
  },
  {
   "cell_type": "code",
   "execution_count": null,
   "id": "007f6f7e-60a4-4d81-a5b5-3f87bd3f3540",
   "metadata": {},
   "outputs": [],
   "source": [
    "library - code -->  numpy code --> numpy array"
   ]
  },
  {
   "cell_type": "code",
   "execution_count": null,
   "id": "da96640d-3607-4655-8eaa-b700a223a720",
   "metadata": {},
   "outputs": [],
   "source": [
    "1.count\n",
    "2.index"
   ]
  },
  {
   "cell_type": "code",
   "execution_count": 9,
   "id": "378d0bba-cb89-4321-96cc-690fa3b03597",
   "metadata": {},
   "outputs": [],
   "source": [
    "p = (2,54,6,23,34345,53,4)"
   ]
  },
  {
   "cell_type": "code",
   "execution_count": 11,
   "id": "17394220-3b76-474b-afc2-54d56575f45f",
   "metadata": {},
   "outputs": [
    {
     "ename": "AttributeError",
     "evalue": "'tuple' object has no attribute 'append'",
     "output_type": "error",
     "traceback": [
      "\u001b[1;31m---------------------------------------------------------------------------\u001b[0m",
      "\u001b[1;31mAttributeError\u001b[0m                            Traceback (most recent call last)",
      "Cell \u001b[1;32mIn[11], line 1\u001b[0m\n\u001b[1;32m----> 1\u001b[0m p\u001b[38;5;241m.\u001b[39mappend(\u001b[38;5;241m100\u001b[39m)\n",
      "\u001b[1;31mAttributeError\u001b[0m: 'tuple' object has no attribute 'append'"
     ]
    }
   ],
   "source": [
    "p.append(100)"
   ]
  },
  {
   "cell_type": "code",
   "execution_count": 13,
   "id": "0996ddc7-07ca-4c67-81ac-cd3dd4361b1e",
   "metadata": {},
   "outputs": [
    {
     "data": {
      "text/plain": [
       "4"
      ]
     },
     "execution_count": 13,
     "metadata": {},
     "output_type": "execute_result"
    }
   ],
   "source": [
    "p.index(34345)"
   ]
  },
  {
   "cell_type": "code",
   "execution_count": null,
   "id": "282b67e0-b40a-4496-a115-f2094a17293a",
   "metadata": {},
   "outputs": [],
   "source": [
    "Application\n",
    "\n",
    "database"
   ]
  },
  {
   "cell_type": "code",
   "execution_count": 14,
   "id": "d3e49d82-c5a5-4c95-99ce-db2df2553121",
   "metadata": {},
   "outputs": [],
   "source": [
    "db_cred = ('admin','admin@123')"
   ]
  },
  {
   "cell_type": "code",
   "execution_count": 15,
   "id": "297a2d26-efa8-4aca-aa10-9ef1598b888b",
   "metadata": {},
   "outputs": [
    {
     "data": {
      "text/plain": [
       "('admin', 'admin@123')"
      ]
     },
     "execution_count": 15,
     "metadata": {},
     "output_type": "execute_result"
    }
   ],
   "source": [
    "db_cred"
   ]
  },
  {
   "cell_type": "code",
   "execution_count": null,
   "id": "076e8362-c1f1-4087-a41e-d698c535e3a1",
   "metadata": {},
   "outputs": [],
   "source": [
    "config --> server name,ip"
   ]
  },
  {
   "cell_type": "code",
   "execution_count": 16,
   "id": "90913cb0-e6db-4788-8b83-15ad6c2d658f",
   "metadata": {},
   "outputs": [
    {
     "data": {
      "text/plain": [
       "'admin'"
      ]
     },
     "execution_count": 16,
     "metadata": {},
     "output_type": "execute_result"
    }
   ],
   "source": [
    "db_cred[0]"
   ]
  },
  {
   "cell_type": "code",
   "execution_count": 17,
   "id": "76d07765-f105-4093-8365-4fdf3506043d",
   "metadata": {},
   "outputs": [
    {
     "data": {
      "text/plain": [
       "'admin@123'"
      ]
     },
     "execution_count": 17,
     "metadata": {},
     "output_type": "execute_result"
    }
   ],
   "source": [
    "db_cred[1]"
   ]
  },
  {
   "cell_type": "code",
   "execution_count": 18,
   "id": "0b48611f-64e6-46bb-859e-1758f765f139",
   "metadata": {},
   "outputs": [
    {
     "ename": "AttributeError",
     "evalue": "'tuple' object has no attribute 'insert'",
     "output_type": "error",
     "traceback": [
      "\u001b[1;31m---------------------------------------------------------------------------\u001b[0m",
      "\u001b[1;31mAttributeError\u001b[0m                            Traceback (most recent call last)",
      "Cell \u001b[1;32mIn[18], line 1\u001b[0m\n\u001b[1;32m----> 1\u001b[0m db_cred\u001b[38;5;241m.\u001b[39minsert(\u001b[38;5;241m1\u001b[39m,\u001b[38;5;124m'\u001b[39m\u001b[38;5;124msdfdsf\u001b[39m\u001b[38;5;124m'\u001b[39m)\n",
      "\u001b[1;31mAttributeError\u001b[0m: 'tuple' object has no attribute 'insert'"
     ]
    }
   ],
   "source": [
    "db_cred.insert(1,'sdfdsf')"
   ]
  },
  {
   "cell_type": "code",
   "execution_count": null,
   "id": "c3396af6-c055-49c2-83bf-0266d6cf3798",
   "metadata": {},
   "outputs": [],
   "source": [
    "read --> write "
   ]
  },
  {
   "cell_type": "code",
   "execution_count": 19,
   "id": "0317ad7e-399e-458b-a17f-43eecdeae06f",
   "metadata": {},
   "outputs": [],
   "source": [
    "server = ('dbserver','192.168.1.4','root','root@123','copper')"
   ]
  },
  {
   "cell_type": "code",
   "execution_count": 20,
   "id": "aef08a96-2bb4-4c1e-8f04-195844378ecb",
   "metadata": {},
   "outputs": [
    {
     "data": {
      "text/plain": [
       "'root'"
      ]
     },
     "execution_count": 20,
     "metadata": {},
     "output_type": "execute_result"
    }
   ],
   "source": [
    "server[2]"
   ]
  },
  {
   "cell_type": "code",
   "execution_count": 21,
   "id": "46a44204-b1f0-4fde-a0a8-690696c4daab",
   "metadata": {},
   "outputs": [
    {
     "data": {
      "text/plain": [
       "'root@123'"
      ]
     },
     "execution_count": 21,
     "metadata": {},
     "output_type": "execute_result"
    }
   ],
   "source": [
    "server[3]"
   ]
  },
  {
   "cell_type": "code",
   "execution_count": null,
   "id": "ad77b4a5-f745-4f12-b027-71321504bb2a",
   "metadata": {},
   "outputs": [],
   "source": [
    "config.json files\n",
    "env variable"
   ]
  },
  {
   "cell_type": "code",
   "execution_count": 24,
   "id": "35fb36dd-1771-4d85-adfa-0e42b0eaacf5",
   "metadata": {},
   "outputs": [
    {
     "ename": "AttributeError",
     "evalue": "'tuple' object has no attribute 'clear'",
     "output_type": "error",
     "traceback": [
      "\u001b[1;31m---------------------------------------------------------------------------\u001b[0m",
      "\u001b[1;31mAttributeError\u001b[0m                            Traceback (most recent call last)",
      "Cell \u001b[1;32mIn[24], line 1\u001b[0m\n\u001b[1;32m----> 1\u001b[0m server\u001b[38;5;241m.\u001b[39mclear()\n",
      "\u001b[1;31mAttributeError\u001b[0m: 'tuple' object has no attribute 'clear'"
     ]
    }
   ],
   "source": [
    "server.clear()"
   ]
  },
  {
   "cell_type": "code",
   "execution_count": null,
   "id": "ce173c15-7cc6-411c-98b9-b3f766ef440e",
   "metadata": {},
   "outputs": [],
   "source": [
    "list\n"
   ]
  }
 ],
 "metadata": {
  "kernelspec": {
   "display_name": "Python 3 (ipykernel)",
   "language": "python",
   "name": "python3"
  },
  "language_info": {
   "codemirror_mode": {
    "name": "ipython",
    "version": 3
   },
   "file_extension": ".py",
   "mimetype": "text/x-python",
   "name": "python",
   "nbconvert_exporter": "python",
   "pygments_lexer": "ipython3",
   "version": "3.12.7"
  }
 },
 "nbformat": 4,
 "nbformat_minor": 5
}
