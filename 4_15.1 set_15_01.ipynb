{
 "cells": [
  {
   "cell_type": "code",
   "execution_count": null,
   "id": "eec5733c-9a5e-41dd-88df-5febbe71301a",
   "metadata": {},
   "outputs": [],
   "source": [
    "set:\n",
    "\n",
    "it is collection of unique elements\n",
    "it is denoted by {at least one element}\n",
    "it is mutable type [ insert,delete,update]\n",
    "it is unordered type DS\n",
    "indexing not possible on set"
   ]
  },
  {
   "cell_type": "code",
   "execution_count": null,
   "id": "8bf1c35b-0e58-4589-807c-7c8aac857dfa",
   "metadata": {},
   "outputs": [],
   "source": []
  },
  {
   "cell_type": "code",
   "execution_count": 3,
   "id": "ab956105-768c-40f5-998a-98319a44f302",
   "metadata": {},
   "outputs": [],
   "source": [
    "p = (10,)"
   ]
  },
  {
   "cell_type": "code",
   "execution_count": 4,
   "id": "4aba1fd8-8c2a-42da-8c38-a770d2be3370",
   "metadata": {},
   "outputs": [
    {
     "data": {
      "text/plain": [
       "tuple"
      ]
     },
     "execution_count": 4,
     "metadata": {},
     "output_type": "execute_result"
    }
   ],
   "source": [
    "type(p)"
   ]
  },
  {
   "cell_type": "code",
   "execution_count": null,
   "id": "9c6de60b-a7f9-4241-a22f-026c99734893",
   "metadata": {},
   "outputs": [],
   "source": [
    "list -- []\n",
    "tuple -- ()\n",
    "dict -- {}\n",
    "str ' ' / \" \" / ''' ''' / \"\"\" \"\"\" \n",
    "\n",
    "set -- {} \n",
    "frozenset ()"
   ]
  },
  {
   "cell_type": "code",
   "execution_count": 5,
   "id": "c35427cc-2a9f-418d-92a4-e274540999bd",
   "metadata": {},
   "outputs": [],
   "source": [
    "p = {} "
   ]
  },
  {
   "cell_type": "code",
   "execution_count": 6,
   "id": "199bed44-f417-4e03-bc4b-b9c539614d18",
   "metadata": {},
   "outputs": [
    {
     "data": {
      "text/plain": [
       "dict"
      ]
     },
     "execution_count": 6,
     "metadata": {},
     "output_type": "execute_result"
    }
   ],
   "source": [
    "type(p)"
   ]
  },
  {
   "cell_type": "code",
   "execution_count": null,
   "id": "03589d3c-e534-4723-81c6-b65ac03ca094",
   "metadata": {},
   "outputs": [],
   "source": [
    "Empty DS\n",
    "\n",
    "using symbolic method , method type"
   ]
  },
  {
   "cell_type": "code",
   "execution_count": 7,
   "id": "4e351d1d-65ef-4334-a724-6c703f16d6e3",
   "metadata": {},
   "outputs": [],
   "source": [
    "p = []"
   ]
  },
  {
   "cell_type": "code",
   "execution_count": 8,
   "id": "92b342c6-e98c-424b-9969-e13fde172a87",
   "metadata": {},
   "outputs": [
    {
     "data": {
      "text/plain": [
       "list"
      ]
     },
     "execution_count": 8,
     "metadata": {},
     "output_type": "execute_result"
    }
   ],
   "source": [
    "type(p)"
   ]
  },
  {
   "cell_type": "code",
   "execution_count": 9,
   "id": "179f2fc4-efc2-4906-93a6-2fec87795555",
   "metadata": {},
   "outputs": [],
   "source": [
    "p = ()"
   ]
  },
  {
   "cell_type": "code",
   "execution_count": 10,
   "id": "8ec32eb9-53bf-4f19-bb20-5e087519ba92",
   "metadata": {},
   "outputs": [
    {
     "data": {
      "text/plain": [
       "tuple"
      ]
     },
     "execution_count": 10,
     "metadata": {},
     "output_type": "execute_result"
    }
   ],
   "source": [
    "type(p)"
   ]
  },
  {
   "cell_type": "code",
   "execution_count": 11,
   "id": "d845e999-c151-4b6e-9e96-2c5dd4cf0da8",
   "metadata": {},
   "outputs": [],
   "source": [
    "p = {}"
   ]
  },
  {
   "cell_type": "code",
   "execution_count": 12,
   "id": "ac63c779-e1b9-481d-a256-7d33355a145a",
   "metadata": {},
   "outputs": [
    {
     "data": {
      "text/plain": [
       "dict"
      ]
     },
     "execution_count": 12,
     "metadata": {},
     "output_type": "execute_result"
    }
   ],
   "source": [
    "type(p)"
   ]
  },
  {
   "cell_type": "code",
   "execution_count": 13,
   "id": "364d493c-2b41-46ee-bf2f-31da51272793",
   "metadata": {},
   "outputs": [],
   "source": [
    "p = '' "
   ]
  },
  {
   "cell_type": "code",
   "execution_count": 14,
   "id": "05c1201b-b4f7-4a99-a799-14ce1405b983",
   "metadata": {},
   "outputs": [
    {
     "data": {
      "text/plain": [
       "str"
      ]
     },
     "execution_count": 14,
     "metadata": {},
     "output_type": "execute_result"
    }
   ],
   "source": [
    "type(p)"
   ]
  },
  {
   "cell_type": "code",
   "execution_count": 16,
   "id": "c9303b46-ab85-4c72-8410-2771ea446939",
   "metadata": {},
   "outputs": [],
   "source": [
    "p = list()"
   ]
  },
  {
   "cell_type": "code",
   "execution_count": 17,
   "id": "bda160fb-c9ce-4c40-b5a6-aa93fd69d873",
   "metadata": {},
   "outputs": [
    {
     "data": {
      "text/plain": [
       "list"
      ]
     },
     "execution_count": 17,
     "metadata": {},
     "output_type": "execute_result"
    }
   ],
   "source": [
    "type(p)"
   ]
  },
  {
   "cell_type": "code",
   "execution_count": 18,
   "id": "bc99d12b-b63e-4256-9c27-8e6b6d48219d",
   "metadata": {},
   "outputs": [],
   "source": [
    "p = tuple()"
   ]
  },
  {
   "cell_type": "code",
   "execution_count": 19,
   "id": "738ad3b9-3520-450d-9505-4bd15ea57f62",
   "metadata": {},
   "outputs": [
    {
     "data": {
      "text/plain": [
       "tuple"
      ]
     },
     "execution_count": 19,
     "metadata": {},
     "output_type": "execute_result"
    }
   ],
   "source": [
    "type(p)"
   ]
  },
  {
   "cell_type": "code",
   "execution_count": 20,
   "id": "ed377b25-9227-44df-ac55-5698c30cb991",
   "metadata": {},
   "outputs": [],
   "source": [
    "p = set()"
   ]
  },
  {
   "cell_type": "code",
   "execution_count": 22,
   "id": "119f760c-84c0-4fc3-b2da-97fd7395d03f",
   "metadata": {},
   "outputs": [
    {
     "data": {
      "text/plain": [
       "set"
      ]
     },
     "execution_count": 22,
     "metadata": {},
     "output_type": "execute_result"
    }
   ],
   "source": [
    "type(p)"
   ]
  },
  {
   "cell_type": "code",
   "execution_count": 23,
   "id": "05df4bc8-852c-4e78-83f9-3f88f2c54a32",
   "metadata": {},
   "outputs": [],
   "source": [
    "p = str()"
   ]
  },
  {
   "cell_type": "code",
   "execution_count": 24,
   "id": "06ea0653-4743-4e23-9d21-f2ca861daadd",
   "metadata": {},
   "outputs": [
    {
     "data": {
      "text/plain": [
       "str"
      ]
     },
     "execution_count": 24,
     "metadata": {},
     "output_type": "execute_result"
    }
   ],
   "source": [
    "type(p)"
   ]
  },
  {
   "cell_type": "code",
   "execution_count": 25,
   "id": "ffb410a2-40aa-4201-b3bc-6a00dd16e2d0",
   "metadata": {},
   "outputs": [],
   "source": [
    "p = [1,4,63]"
   ]
  },
  {
   "cell_type": "code",
   "execution_count": 26,
   "id": "6a9ddeb7-f4be-4a14-bc29-48289439f454",
   "metadata": {},
   "outputs": [],
   "source": [
    "p = {4,6,23,6,5,34}"
   ]
  },
  {
   "cell_type": "code",
   "execution_count": 27,
   "id": "b10877b5-1484-4a89-bc87-ce13a737b442",
   "metadata": {},
   "outputs": [
    {
     "data": {
      "text/plain": [
       "set"
      ]
     },
     "execution_count": 27,
     "metadata": {},
     "output_type": "execute_result"
    }
   ],
   "source": [
    "type(p)"
   ]
  },
  {
   "cell_type": "code",
   "execution_count": 28,
   "id": "b89f52d3-139d-4d39-9f16-5711cf9162f8",
   "metadata": {},
   "outputs": [],
   "source": [
    "p = [54,7,23,65,32,7,6,34,'python','java','DS']"
   ]
  },
  {
   "cell_type": "code",
   "execution_count": 29,
   "id": "0070d0dc-c66f-4a18-a102-a6db636f1cf2",
   "metadata": {},
   "outputs": [
    {
     "data": {
      "text/plain": [
       "[54, 7, 23, 65, 32, 7, 6, 34, 'python', 'java', 'DS']"
      ]
     },
     "execution_count": 29,
     "metadata": {},
     "output_type": "execute_result"
    }
   ],
   "source": [
    "p"
   ]
  },
  {
   "cell_type": "code",
   "execution_count": 30,
   "id": "58b49a85-45ad-46f1-878e-28a28fb68c91",
   "metadata": {},
   "outputs": [],
   "source": [
    "p = {54,7,23,65,32,7,6,34,'python','java','DS'}"
   ]
  },
  {
   "cell_type": "code",
   "execution_count": 31,
   "id": "44b82055-ea1a-4abb-9a54-22fd2abd8cf0",
   "metadata": {},
   "outputs": [
    {
     "data": {
      "text/plain": [
       "{23, 32, 34, 54, 6, 65, 7, 'DS', 'java', 'python'}"
      ]
     },
     "execution_count": 31,
     "metadata": {},
     "output_type": "execute_result"
    }
   ],
   "source": [
    "p"
   ]
  },
  {
   "cell_type": "code",
   "execution_count": null,
   "id": "f932f15f-bdea-4277-8916-640ea3ea78c8",
   "metadata": {},
   "outputs": [],
   "source": [
    "list -- ordered \n",
    "tuple -- ordered\n",
    "set -- unordered\n"
   ]
  },
  {
   "cell_type": "code",
   "execution_count": 32,
   "id": "a47d83ba-efab-40dd-a8f1-96a83c48696e",
   "metadata": {},
   "outputs": [
    {
     "data": {
      "text/plain": [
       "{23, 32, 34, 54, 6, 65, 7, 'DS', 'java', 'python'}"
      ]
     },
     "execution_count": 32,
     "metadata": {},
     "output_type": "execute_result"
    }
   ],
   "source": [
    "p"
   ]
  },
  {
   "cell_type": "code",
   "execution_count": 33,
   "id": "a984680e-5fc2-48a2-b6ae-9e1fca22e3ee",
   "metadata": {},
   "outputs": [
    {
     "ename": "TypeError",
     "evalue": "'set' object is not subscriptable",
     "output_type": "error",
     "traceback": [
      "\u001b[1;31m---------------------------------------------------------------------------\u001b[0m",
      "\u001b[1;31mTypeError\u001b[0m                                 Traceback (most recent call last)",
      "Cell \u001b[1;32mIn[33], line 1\u001b[0m\n\u001b[1;32m----> 1\u001b[0m p[\u001b[38;5;241m4\u001b[39m]\n",
      "\u001b[1;31mTypeError\u001b[0m: 'set' object is not subscriptable"
     ]
    }
   ],
   "source": [
    "p[4]"
   ]
  },
  {
   "cell_type": "code",
   "execution_count": null,
   "id": "6fb86f5d-1ed1-4f27-b490-af67754f7694",
   "metadata": {},
   "outputs": [],
   "source": [
    "Operation :\n",
    "\n",
    "Insertion :\n",
    "    1.add(element) : to add single element at random position\n",
    "    2.update({elements} : to add multiple elements at random position\n"
   ]
  },
  {
   "cell_type": "code",
   "execution_count": 34,
   "id": "a6170395-730d-4301-b066-b517bc65557d",
   "metadata": {},
   "outputs": [
    {
     "data": {
      "text/plain": [
       "{23, 32, 34, 54, 6, 65, 7, 'DS', 'java', 'python'}"
      ]
     },
     "execution_count": 34,
     "metadata": {},
     "output_type": "execute_result"
    }
   ],
   "source": [
    "p"
   ]
  },
  {
   "cell_type": "code",
   "execution_count": 35,
   "id": "99ff92c6-bcf4-48be-a349-5bf97042912e",
   "metadata": {},
   "outputs": [],
   "source": [
    "p.add(100)"
   ]
  },
  {
   "cell_type": "code",
   "execution_count": 36,
   "id": "95e89721-69b3-48c0-b9f8-dbf60a8bb855",
   "metadata": {},
   "outputs": [
    {
     "data": {
      "text/plain": [
       "{100, 23, 32, 34, 54, 6, 65, 7, 'DS', 'java', 'python'}"
      ]
     },
     "execution_count": 36,
     "metadata": {},
     "output_type": "execute_result"
    }
   ],
   "source": [
    "p"
   ]
  },
  {
   "cell_type": "code",
   "execution_count": 37,
   "id": "2ab358a0-eb28-4dbb-9fd7-f93530ccf334",
   "metadata": {},
   "outputs": [],
   "source": [
    "p.add('ML')"
   ]
  },
  {
   "cell_type": "code",
   "execution_count": 38,
   "id": "434de1f3-d127-4ac3-bd63-92fb53946c46",
   "metadata": {},
   "outputs": [
    {
     "data": {
      "text/plain": [
       "{100, 23, 32, 34, 54, 6, 65, 7, 'DS', 'ML', 'java', 'python'}"
      ]
     },
     "execution_count": 38,
     "metadata": {},
     "output_type": "execute_result"
    }
   ],
   "source": [
    "p"
   ]
  },
  {
   "cell_type": "code",
   "execution_count": 39,
   "id": "415508a0-21e8-43ed-9217-7ce46d08614b",
   "metadata": {},
   "outputs": [],
   "source": [
    "p.update({4,675,3,46,5,8,34,6,5,34,75,34,})"
   ]
  },
  {
   "cell_type": "code",
   "execution_count": 40,
   "id": "2c920b1e-8120-46c0-8126-395cf699d11f",
   "metadata": {},
   "outputs": [
    {
     "data": {
      "text/plain": [
       "{100,\n",
       " 23,\n",
       " 3,\n",
       " 32,\n",
       " 34,\n",
       " 4,\n",
       " 46,\n",
       " 5,\n",
       " 54,\n",
       " 6,\n",
       " 65,\n",
       " 675,\n",
       " 7,\n",
       " 75,\n",
       " 8,\n",
       " 'DS',\n",
       " 'ML',\n",
       " 'java',\n",
       " 'python'}"
      ]
     },
     "execution_count": 40,
     "metadata": {},
     "output_type": "execute_result"
    }
   ],
   "source": [
    "p"
   ]
  },
  {
   "cell_type": "code",
   "execution_count": 106,
   "id": "2a0f8dfc-6aac-41e9-950a-b8a0452a46e7",
   "metadata": {},
   "outputs": [],
   "source": [
    "p = {100,\n",
    " 23,\n",
    " 3,\n",
    " 32,\n",
    " 34,\n",
    " 4,\n",
    " 46,\n",
    " 5,\n",
    " 54,\n",
    " 6,\n",
    " 65,\n",
    " 675,\n",
    " 7,\n",
    " 75,\n",
    " 8,\n",
    " 'DS',\n",
    " 'ML',\n",
    " 'java',\n",
    " 'python'}"
   ]
  },
  {
   "cell_type": "code",
   "execution_count": null,
   "id": "35e3642d-8387-4a68-925c-f40a1b2a70e1",
   "metadata": {},
   "outputs": [],
   "source": [
    "Deletion \n",
    "1.remove\n",
    "2.discard\n",
    "3.pop\n",
    "4.clear"
   ]
  },
  {
   "cell_type": "code",
   "execution_count": 108,
   "id": "2b7cb995-1065-4ab5-b518-416573eceef9",
   "metadata": {},
   "outputs": [
    {
     "name": "stdout",
     "output_type": "stream",
     "text": [
      "{65, 3, 4, 5, 6, 7, 8, 75, 23, 'DS', 32, 34, 675, 100, 46, 'ML', 54, 'python', 'java'}\n"
     ]
    }
   ],
   "source": [
    "print(p)"
   ]
  },
  {
   "cell_type": "code",
   "execution_count": null,
   "id": "35df5c27-19ef-4140-b23b-4bb5cd42d5f9",
   "metadata": {},
   "outputs": [],
   "source": [
    "remove(element) : to delete single element\n",
    "if element present then delete\n",
    "if not then return KeyError"
   ]
  },
  {
   "cell_type": "code",
   "execution_count": 42,
   "id": "3606f3fc-c9b5-41ac-b9d4-7a89f058e6d8",
   "metadata": {},
   "outputs": [],
   "source": [
    "p.remove('DS')"
   ]
  },
  {
   "cell_type": "code",
   "execution_count": 44,
   "id": "c7d70acb-b612-44e4-9dfe-7ea39a3f8de3",
   "metadata": {},
   "outputs": [],
   "source": [
    "p.remove(100)"
   ]
  },
  {
   "cell_type": "code",
   "execution_count": 45,
   "id": "76b29954-142b-4713-809c-2391307945d4",
   "metadata": {},
   "outputs": [
    {
     "data": {
      "text/plain": [
       "{23, 3, 32, 34, 4, 46, 5, 54, 6, 65, 675, 7, 75, 8, 'ML', 'java', 'python'}"
      ]
     },
     "execution_count": 45,
     "metadata": {},
     "output_type": "execute_result"
    }
   ],
   "source": [
    "p"
   ]
  },
  {
   "cell_type": "code",
   "execution_count": 46,
   "id": "9bceb291-f9f2-4f31-9104-feb94e3d13a3",
   "metadata": {},
   "outputs": [
    {
     "ename": "KeyError",
     "evalue": "'Hadoop'",
     "output_type": "error",
     "traceback": [
      "\u001b[1;31m---------------------------------------------------------------------------\u001b[0m",
      "\u001b[1;31mKeyError\u001b[0m                                  Traceback (most recent call last)",
      "Cell \u001b[1;32mIn[46], line 1\u001b[0m\n\u001b[1;32m----> 1\u001b[0m p\u001b[38;5;241m.\u001b[39mremove(\u001b[38;5;124m'\u001b[39m\u001b[38;5;124mHadoop\u001b[39m\u001b[38;5;124m'\u001b[39m)\n",
      "\u001b[1;31mKeyError\u001b[0m: 'Hadoop'"
     ]
    }
   ],
   "source": [
    "p.remove('Hadoop')"
   ]
  },
  {
   "cell_type": "code",
   "execution_count": null,
   "id": "f38e960a-c518-46e3-9533-58a56960788d",
   "metadata": {},
   "outputs": [],
   "source": [
    "client -- {'copper','gold','silver'} - Data \n",
    "\n",
    "client --> 'gold' - "
   ]
  },
  {
   "cell_type": "code",
   "execution_count": null,
   "id": "cb8cae63-fe24-4163-81f4-26bb3dd0f2c9",
   "metadata": {},
   "outputs": [],
   "source": [
    "discard(element) :\n",
    "to delete single element\n",
    "if element present then delete\n",
    "if not then it will not return any error"
   ]
  },
  {
   "cell_type": "code",
   "execution_count": null,
   "id": "d4f7071a-e3aa-4cf2-8875-d537d961e232",
   "metadata": {},
   "outputs": [],
   "source": [
    "data -- {email ids}\n",
    "valid \n",
    "\n",
    "invalid"
   ]
  },
  {
   "cell_type": "code",
   "execution_count": 48,
   "id": "468e692d-127a-4084-b2d6-8ae76b50613f",
   "metadata": {},
   "outputs": [],
   "source": [
    "p.discard('ML')"
   ]
  },
  {
   "cell_type": "code",
   "execution_count": 49,
   "id": "f501d37d-c307-4f64-9dc3-293ef7f605c7",
   "metadata": {},
   "outputs": [
    {
     "data": {
      "text/plain": [
       "{23, 3, 32, 34, 4, 46, 5, 54, 6, 65, 675, 7, 75, 8, 'java', 'python'}"
      ]
     },
     "execution_count": 49,
     "metadata": {},
     "output_type": "execute_result"
    }
   ],
   "source": [
    "p"
   ]
  },
  {
   "cell_type": "code",
   "execution_count": 50,
   "id": "dc834fff-85f5-4e69-8392-4fb30d574b56",
   "metadata": {},
   "outputs": [],
   "source": [
    "client_data = {'copper','silver','gold','iron','alumina',}"
   ]
  },
  {
   "cell_type": "code",
   "execution_count": 51,
   "id": "d0e66a05-5e07-42e4-8b22-73f27bd2b315",
   "metadata": {},
   "outputs": [
    {
     "data": {
      "text/plain": [
       "{'alumina', 'copper', 'gold', 'iron', 'silver'}"
      ]
     },
     "execution_count": 51,
     "metadata": {},
     "output_type": "execute_result"
    }
   ],
   "source": [
    "client_data"
   ]
  },
  {
   "cell_type": "code",
   "execution_count": 52,
   "id": "b41c47bb-4e37-46a6-847a-d2eeb84c965c",
   "metadata": {},
   "outputs": [],
   "source": [
    "client_data.discard('iron')"
   ]
  },
  {
   "cell_type": "code",
   "execution_count": 53,
   "id": "f0765c1a-7f32-4744-8b5d-b769d5a0fb0d",
   "metadata": {},
   "outputs": [],
   "source": [
    "client_data.discard('iron')"
   ]
  },
  {
   "cell_type": "code",
   "execution_count": null,
   "id": "ee631f63-c901-4195-9b4a-6a63c9f69fd8",
   "metadata": {},
   "outputs": [],
   "source": [
    "data --> invalid with valid data -->"
   ]
  },
  {
   "cell_type": "code",
   "execution_count": 54,
   "id": "56cd85b1-c87a-4944-a3f0-e574406c07ca",
   "metadata": {},
   "outputs": [],
   "source": [
    "id = {5,76,75653435,'redtret'}"
   ]
  },
  {
   "cell_type": "code",
   "execution_count": 55,
   "id": "7dc49b9d-b9f9-41fb-9c32-15fe5fa698f4",
   "metadata": {},
   "outputs": [],
   "source": [
    "p = 'Python'"
   ]
  },
  {
   "cell_type": "code",
   "execution_count": 56,
   "id": "b7ca7d29-b3cd-4339-8dc6-3f7182d703dd",
   "metadata": {},
   "outputs": [],
   "source": [
    "q = 'PYTHON'"
   ]
  },
  {
   "cell_type": "code",
   "execution_count": 57,
   "id": "5fb2be1e-841a-44a0-9da6-a64a1efeeca2",
   "metadata": {},
   "outputs": [],
   "source": [
    "username = 'admin'\n"
   ]
  },
  {
   "cell_type": "code",
   "execution_count": 61,
   "id": "b2024088-452d-4e8c-91fd-6268352a0a9d",
   "metadata": {},
   "outputs": [],
   "source": [
    "u = 'AdmiN'"
   ]
  },
  {
   "cell_type": "code",
   "execution_count": 62,
   "id": "e2f8e4c0-451f-45ea-91df-781b33f99f47",
   "metadata": {},
   "outputs": [
    {
     "data": {
      "text/plain": [
       "True"
      ]
     },
     "execution_count": 62,
     "metadata": {},
     "output_type": "execute_result"
    }
   ],
   "source": [
    "username ==u.lower()"
   ]
  },
  {
   "cell_type": "code",
   "execution_count": 64,
   "id": "663acc8f-3162-497c-ab02-e7e6faf7171b",
   "metadata": {},
   "outputs": [
    {
     "data": {
      "text/plain": [
       "'Python'"
      ]
     },
     "execution_count": 64,
     "metadata": {},
     "output_type": "execute_result"
    }
   ],
   "source": [
    "p"
   ]
  },
  {
   "cell_type": "code",
   "execution_count": 68,
   "id": "671aa8d1-6db6-47da-b157-6c0fbcb4dfda",
   "metadata": {},
   "outputs": [],
   "source": [
    "remove -- Hard delete -- element -- present\n",
    "discard -- soft delete -- element may be present or not"
   ]
  },
  {
   "cell_type": "code",
   "execution_count": null,
   "id": "6ab0e674-614a-4ec0-ba82-073ddb3fa996",
   "metadata": {},
   "outputs": [],
   "source": [
    "int --> remove"
   ]
  },
  {
   "cell_type": "code",
   "execution_count": null,
   "id": "69027a61-2afc-4ef4-9ee4-a9ba85ff73e9",
   "metadata": {},
   "outputs": [],
   "source": [
    "data -- int --> delete"
   ]
  },
  {
   "cell_type": "code",
   "execution_count": null,
   "id": "1e40e465-da86-43ae-a2a7-68850d2d1afa",
   "metadata": {},
   "outputs": [],
   "source": [
    "pop() : to delete element randomly "
   ]
  },
  {
   "cell_type": "code",
   "execution_count": 74,
   "id": "7cd2eb70-5be5-4b1e-9618-105a40232544",
   "metadata": {},
   "outputs": [
    {
     "data": {
      "text/plain": [
       "'hadoop'"
      ]
     },
     "execution_count": 74,
     "metadata": {},
     "output_type": "execute_result"
    }
   ],
   "source": [
    "p.pop()"
   ]
  },
  {
   "cell_type": "code",
   "execution_count": 75,
   "id": "81941a44-9441-431b-9564-56e8edd04446",
   "metadata": {},
   "outputs": [],
   "source": [
    "p = {6,534,6,434,76,5,34,64,234,67,5,43,765,5,45}"
   ]
  },
  {
   "cell_type": "code",
   "execution_count": 76,
   "id": "e26e30e3-80a9-4913-bd18-86f9409ed582",
   "metadata": {},
   "outputs": [
    {
     "data": {
      "text/plain": [
       "{5, 6, 34, 43, 45, 64, 67, 76, 234, 434, 534, 765}"
      ]
     },
     "execution_count": 76,
     "metadata": {},
     "output_type": "execute_result"
    }
   ],
   "source": [
    "p"
   ]
  },
  {
   "cell_type": "code",
   "execution_count": 77,
   "id": "4e64bc74-325d-49a9-bb6c-6b3e98dd64b8",
   "metadata": {},
   "outputs": [
    {
     "data": {
      "text/plain": [
       "64"
      ]
     },
     "execution_count": 77,
     "metadata": {},
     "output_type": "execute_result"
    }
   ],
   "source": [
    "p.pop()"
   ]
  },
  {
   "cell_type": "code",
   "execution_count": 78,
   "id": "a9c06edd-5e50-4fcb-9add-6c4a0f7033ca",
   "metadata": {},
   "outputs": [
    {
     "data": {
      "text/plain": [
       "34"
      ]
     },
     "execution_count": 78,
     "metadata": {},
     "output_type": "execute_result"
    }
   ],
   "source": [
    "p.pop()"
   ]
  },
  {
   "cell_type": "code",
   "execution_count": 79,
   "id": "df2be148-3a8a-47b6-b529-ddbdde0c48d7",
   "metadata": {},
   "outputs": [
    {
     "data": {
      "text/plain": [
       "67"
      ]
     },
     "execution_count": 79,
     "metadata": {},
     "output_type": "execute_result"
    }
   ],
   "source": [
    "p.pop()"
   ]
  },
  {
   "cell_type": "code",
   "execution_count": 80,
   "id": "9052a587-3707-4583-96f8-491a8f270751",
   "metadata": {},
   "outputs": [
    {
     "data": {
      "text/plain": [
       "{5, 6, 43, 45, 76, 234, 434, 534, 765}"
      ]
     },
     "execution_count": 80,
     "metadata": {},
     "output_type": "execute_result"
    }
   ],
   "source": [
    "p"
   ]
  },
  {
   "cell_type": "code",
   "execution_count": 81,
   "id": "8f8dd92b-5249-4c42-b822-38eeb9b86b3a",
   "metadata": {},
   "outputs": [],
   "source": [
    "temp = p.pop()"
   ]
  },
  {
   "cell_type": "code",
   "execution_count": 82,
   "id": "2d248a4e-20e5-477f-9f54-3bd4f8e82b6b",
   "metadata": {},
   "outputs": [
    {
     "data": {
      "text/plain": [
       "5"
      ]
     },
     "execution_count": 82,
     "metadata": {},
     "output_type": "execute_result"
    }
   ],
   "source": [
    "temp"
   ]
  },
  {
   "cell_type": "code",
   "execution_count": 83,
   "id": "2a824d13-242e-4f01-9ea3-6350ecfb3d5d",
   "metadata": {},
   "outputs": [
    {
     "data": {
      "text/plain": [
       "{6, 43, 45, 76, 234, 434, 534, 765}"
      ]
     },
     "execution_count": 83,
     "metadata": {},
     "output_type": "execute_result"
    }
   ],
   "source": [
    "p"
   ]
  },
  {
   "cell_type": "code",
   "execution_count": 84,
   "id": "af50aa91-3ef1-41a0-95b3-5e877d18b88a",
   "metadata": {},
   "outputs": [],
   "source": [
    "tokens = {5643,455,345,64565456545645654456,4324234324324,8676865865766576}"
   ]
  },
  {
   "cell_type": "code",
   "execution_count": 85,
   "id": "121496b7-7b0c-4ecf-9575-65f3fc1449c1",
   "metadata": {},
   "outputs": [],
   "source": [
    "user1 = tokens.pop()"
   ]
  },
  {
   "cell_type": "code",
   "execution_count": 86,
   "id": "0fd77ca2-0b1a-48f5-84e4-58e3ab582068",
   "metadata": {},
   "outputs": [
    {
     "data": {
      "text/plain": [
       "8676865865766576"
      ]
     },
     "execution_count": 86,
     "metadata": {},
     "output_type": "execute_result"
    }
   ],
   "source": [
    "user1"
   ]
  },
  {
   "cell_type": "code",
   "execution_count": 87,
   "id": "5bd95214-f56c-4d4f-98ba-985dcf87dfc7",
   "metadata": {},
   "outputs": [],
   "source": [
    "user2 = tokens.pop()"
   ]
  },
  {
   "cell_type": "code",
   "execution_count": 88,
   "id": "6b3e52df-e292-47e3-bebe-2569c72030fc",
   "metadata": {},
   "outputs": [
    {
     "data": {
      "text/plain": [
       "4324234324324"
      ]
     },
     "execution_count": 88,
     "metadata": {},
     "output_type": "execute_result"
    }
   ],
   "source": [
    "user2"
   ]
  },
  {
   "cell_type": "code",
   "execution_count": 89,
   "id": "f7fa54e8-c3c7-43d0-9a53-6d6e3a5a7136",
   "metadata": {},
   "outputs": [],
   "source": [
    "user3 = tokens.pop()"
   ]
  },
  {
   "cell_type": "code",
   "execution_count": 90,
   "id": "bc41b2a1-8d06-4e99-ab75-16eb2282b1dd",
   "metadata": {},
   "outputs": [
    {
     "data": {
      "text/plain": [
       "64565456545645654456"
      ]
     },
     "execution_count": 90,
     "metadata": {},
     "output_type": "execute_result"
    }
   ],
   "source": [
    "user3"
   ]
  },
  {
   "cell_type": "code",
   "execution_count": 91,
   "id": "ab305c3b-0bae-4593-ae2c-4409abe60caa",
   "metadata": {},
   "outputs": [],
   "source": [
    "user4 = tokens.pop()"
   ]
  },
  {
   "cell_type": "code",
   "execution_count": 92,
   "id": "444dd986-ac73-489a-8a87-250c36fc2ae0",
   "metadata": {},
   "outputs": [
    {
     "data": {
      "text/plain": [
       "455"
      ]
     },
     "execution_count": 92,
     "metadata": {},
     "output_type": "execute_result"
    }
   ],
   "source": [
    "user4"
   ]
  },
  {
   "cell_type": "code",
   "execution_count": 93,
   "id": "959d4cba-83dc-41ed-90c2-1024cba6647f",
   "metadata": {},
   "outputs": [
    {
     "data": {
      "text/plain": [
       "{345, 5643}"
      ]
     },
     "execution_count": 93,
     "metadata": {},
     "output_type": "execute_result"
    }
   ],
   "source": [
    "tokens"
   ]
  },
  {
   "cell_type": "code",
   "execution_count": 94,
   "id": "8f4b17d4-cccc-461c-8ff4-ca41481237ba",
   "metadata": {},
   "outputs": [
    {
     "data": {
      "text/plain": [
       "{6, 43, 45, 76, 234, 434, 534, 765}"
      ]
     },
     "execution_count": 94,
     "metadata": {},
     "output_type": "execute_result"
    }
   ],
   "source": [
    "p"
   ]
  },
  {
   "cell_type": "code",
   "execution_count": 96,
   "id": "191c0ebd-fef5-4d0d-9c75-4f0af7612f73",
   "metadata": {},
   "outputs": [],
   "source": [
    "p.clear()"
   ]
  },
  {
   "cell_type": "code",
   "execution_count": 97,
   "id": "187dc33f-ec05-4285-b40d-6f11f47db9c7",
   "metadata": {},
   "outputs": [
    {
     "data": {
      "text/plain": [
       "set()"
      ]
     },
     "execution_count": 97,
     "metadata": {},
     "output_type": "execute_result"
    }
   ],
   "source": [
    "p"
   ]
  },
  {
   "cell_type": "code",
   "execution_count": null,
   "id": "60fe06be-ea89-447e-b216-b763d33cdb44",
   "metadata": {},
   "outputs": [],
   "source": [
    "add\n",
    "update\n",
    "remove\n",
    "discard\n",
    "pop\n",
    "clear"
   ]
  },
  {
   "cell_type": "code",
   "execution_count": 98,
   "id": "31a1e071-031c-4dc9-b77d-6d47228798e9",
   "metadata": {},
   "outputs": [],
   "source": [
    "loan  = {'amit','jon','justin','arun','sonali','monali'}"
   ]
  },
  {
   "cell_type": "code",
   "execution_count": 99,
   "id": "534cd53e-c596-442b-a3ee-d7426f5fb7d8",
   "metadata": {},
   "outputs": [],
   "source": [
    "credit = {'jon','keshav','arun','rakesh'}"
   ]
  },
  {
   "cell_type": "code",
   "execution_count": 100,
   "id": "7dd808da-a251-4a89-bf07-431b180f3782",
   "metadata": {},
   "outputs": [
    {
     "data": {
      "text/plain": [
       "{'amit', 'arun', 'jon', 'justin', 'keshav', 'monali', 'rakesh', 'sonali'}"
      ]
     },
     "execution_count": 100,
     "metadata": {},
     "output_type": "execute_result"
    }
   ],
   "source": [
    "loan.union(credit)"
   ]
  },
  {
   "cell_type": "code",
   "execution_count": 101,
   "id": "62ee3ac8-0fb7-46c8-a074-075dbf07c463",
   "metadata": {},
   "outputs": [
    {
     "data": {
      "text/plain": [
       "{'arun', 'jon'}"
      ]
     },
     "execution_count": 101,
     "metadata": {},
     "output_type": "execute_result"
    }
   ],
   "source": [
    "loan.intersection(credit)"
   ]
  },
  {
   "cell_type": "code",
   "execution_count": null,
   "id": "1c7f5cf7-709e-4d8a-bd94-80e335ed4944",
   "metadata": {},
   "outputs": [],
   "source": [
    "loan."
   ]
  },
  {
   "cell_type": "code",
   "execution_count": 102,
   "id": "399b0e1b-c11e-42fb-9fa5-55d5b8b0c00b",
   "metadata": {},
   "outputs": [],
   "source": [
    "p = [1,2,3]"
   ]
  },
  {
   "cell_type": "code",
   "execution_count": 104,
   "id": "d396ea62-159b-4bf2-8545-7494cd2d217e",
   "metadata": {},
   "outputs": [
    {
     "data": {
      "text/plain": [
       "{1, 2, 3, 'amit', 'arun', 'jon', 'justin', 'monali', 'sonali'}"
      ]
     },
     "execution_count": 104,
     "metadata": {},
     "output_type": "execute_result"
    }
   ],
   "source": [
    "loan.union(p)"
   ]
  },
  {
   "cell_type": "code",
   "execution_count": 105,
   "id": "1ac1f467-cc73-4f8b-bd16-4f203bfd8679",
   "metadata": {},
   "outputs": [
    {
     "data": {
      "text/plain": [
       "set()"
      ]
     },
     "execution_count": 105,
     "metadata": {},
     "output_type": "execute_result"
    }
   ],
   "source": [
    "loan.intersection(p)"
   ]
  },
  {
   "cell_type": "code",
   "execution_count": null,
   "id": "ff5123e9-110b-4d36-9cbf-665419ce78d8",
   "metadata": {},
   "outputs": [],
   "source": []
  }
 ],
 "metadata": {
  "kernelspec": {
   "display_name": "Python 3 (ipykernel)",
   "language": "python",
   "name": "python3"
  },
  "language_info": {
   "codemirror_mode": {
    "name": "ipython",
    "version": 3
   },
   "file_extension": ".py",
   "mimetype": "text/x-python",
   "name": "python",
   "nbconvert_exporter": "python",
   "pygments_lexer": "ipython3",
   "version": "3.12.7"
  }
 },
 "nbformat": 4,
 "nbformat_minor": 5
}
